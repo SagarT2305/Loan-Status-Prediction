{
 "cells": [
  {
   "cell_type": "code",
   "execution_count": 1,
   "id": "f2f9aaf4",
   "metadata": {},
   "outputs": [],
   "source": [
    "import warnings\n",
    "warnings.filterwarnings('ignore')\n",
    "\n",
    "import pandas as pd\n",
    "a = pd.read_csv('C:/Users/Lenovo/Downloads/Loan/training_set (1).csv')"
   ]
  },
  {
   "cell_type": "code",
   "execution_count": 2,
   "id": "cc384d4c",
   "metadata": {},
   "outputs": [
    {
     "data": {
      "text/html": [
       "<div>\n",
       "<style scoped>\n",
       "    .dataframe tbody tr th:only-of-type {\n",
       "        vertical-align: middle;\n",
       "    }\n",
       "\n",
       "    .dataframe tbody tr th {\n",
       "        vertical-align: top;\n",
       "    }\n",
       "\n",
       "    .dataframe thead th {\n",
       "        text-align: right;\n",
       "    }\n",
       "</style>\n",
       "<table border=\"1\" class=\"dataframe\">\n",
       "  <thead>\n",
       "    <tr style=\"text-align: right;\">\n",
       "      <th></th>\n",
       "      <th>Loan_ID</th>\n",
       "      <th>Gender</th>\n",
       "      <th>Married</th>\n",
       "      <th>Dependents</th>\n",
       "      <th>Education</th>\n",
       "      <th>Self_Employed</th>\n",
       "      <th>ApplicantIncome</th>\n",
       "      <th>CoapplicantIncome</th>\n",
       "      <th>LoanAmount</th>\n",
       "      <th>Loan_Amount_Term</th>\n",
       "      <th>Credit_History</th>\n",
       "      <th>Property_Area</th>\n",
       "      <th>Loan_Status</th>\n",
       "    </tr>\n",
       "  </thead>\n",
       "  <tbody>\n",
       "    <tr>\n",
       "      <th>0</th>\n",
       "      <td>LP001002</td>\n",
       "      <td>Male</td>\n",
       "      <td>No</td>\n",
       "      <td>0</td>\n",
       "      <td>Graduate</td>\n",
       "      <td>No</td>\n",
       "      <td>5849.0</td>\n",
       "      <td>0.0</td>\n",
       "      <td>NaN</td>\n",
       "      <td>360.0</td>\n",
       "      <td>1.0</td>\n",
       "      <td>Urban</td>\n",
       "      <td>Y</td>\n",
       "    </tr>\n",
       "    <tr>\n",
       "      <th>1</th>\n",
       "      <td>LP001003</td>\n",
       "      <td>Male</td>\n",
       "      <td>Yes</td>\n",
       "      <td>1</td>\n",
       "      <td>Graduate</td>\n",
       "      <td>No</td>\n",
       "      <td>NaN</td>\n",
       "      <td>1508.0</td>\n",
       "      <td>128.0</td>\n",
       "      <td>360.0</td>\n",
       "      <td>1.0</td>\n",
       "      <td>Rural</td>\n",
       "      <td>N</td>\n",
       "    </tr>\n",
       "    <tr>\n",
       "      <th>2</th>\n",
       "      <td>LP001005</td>\n",
       "      <td>Male</td>\n",
       "      <td>Yes</td>\n",
       "      <td>0</td>\n",
       "      <td>Graduate</td>\n",
       "      <td>Yes</td>\n",
       "      <td>3000.0</td>\n",
       "      <td>0.0</td>\n",
       "      <td>66.0</td>\n",
       "      <td>360.0</td>\n",
       "      <td>1.0</td>\n",
       "      <td>Urban</td>\n",
       "      <td>Y</td>\n",
       "    </tr>\n",
       "  </tbody>\n",
       "</table>\n",
       "</div>"
      ],
      "text/plain": [
       "    Loan_ID Gender Married Dependents Education Self_Employed  \\\n",
       "0  LP001002   Male      No          0  Graduate            No   \n",
       "1  LP001003   Male     Yes          1  Graduate            No   \n",
       "2  LP001005   Male     Yes          0  Graduate           Yes   \n",
       "\n",
       "   ApplicantIncome  CoapplicantIncome  LoanAmount  Loan_Amount_Term  \\\n",
       "0           5849.0                0.0         NaN             360.0   \n",
       "1              NaN             1508.0       128.0             360.0   \n",
       "2           3000.0                0.0        66.0             360.0   \n",
       "\n",
       "   Credit_History Property_Area Loan_Status  \n",
       "0             1.0         Urban           Y  \n",
       "1             1.0         Rural           N  \n",
       "2             1.0         Urban           Y  "
      ]
     },
     "execution_count": 2,
     "metadata": {},
     "output_type": "execute_result"
    }
   ],
   "source": [
    "a.head(3)"
   ]
  },
  {
   "cell_type": "markdown",
   "id": "5522546d",
   "metadata": {},
   "source": [
    "# check missing data"
   ]
  },
  {
   "cell_type": "code",
   "execution_count": 3,
   "id": "c7554279",
   "metadata": {},
   "outputs": [
    {
     "data": {
      "text/plain": [
       "Loan_ID               0\n",
       "Gender               15\n",
       "Married               3\n",
       "Dependents           15\n",
       "Education             1\n",
       "Self_Employed        32\n",
       "ApplicantIncome       2\n",
       "CoapplicantIncome     1\n",
       "LoanAmount           22\n",
       "Loan_Amount_Term     14\n",
       "Credit_History       50\n",
       "Property_Area         0\n",
       "Loan_Status           0\n",
       "dtype: int64"
      ]
     },
     "execution_count": 3,
     "metadata": {},
     "output_type": "execute_result"
    }
   ],
   "source": [
    "a.isna().sum()"
   ]
  },
  {
   "cell_type": "code",
   "execution_count": 4,
   "id": "83d961e7",
   "metadata": {},
   "outputs": [],
   "source": [
    "from module import replacer,preprocessing,catconsep"
   ]
  },
  {
   "cell_type": "code",
   "execution_count": 5,
   "id": "219839e9",
   "metadata": {},
   "outputs": [],
   "source": [
    "replacer(a)"
   ]
  },
  {
   "cell_type": "code",
   "execution_count": 6,
   "id": "4499598e",
   "metadata": {},
   "outputs": [
    {
     "data": {
      "text/plain": [
       "Loan_ID              0\n",
       "Gender               0\n",
       "Married              0\n",
       "Dependents           0\n",
       "Education            0\n",
       "Self_Employed        0\n",
       "ApplicantIncome      0\n",
       "CoapplicantIncome    0\n",
       "LoanAmount           0\n",
       "Loan_Amount_Term     0\n",
       "Credit_History       0\n",
       "Property_Area        0\n",
       "Loan_Status          0\n",
       "dtype: int64"
      ]
     },
     "execution_count": 6,
     "metadata": {},
     "output_type": "execute_result"
    }
   ],
   "source": [
    "a.isna().sum()"
   ]
  },
  {
   "cell_type": "markdown",
   "id": "e209a191",
   "metadata": {},
   "source": [
    "# Define x and y"
   ]
  },
  {
   "cell_type": "code",
   "execution_count": 7,
   "id": "5eb89342",
   "metadata": {},
   "outputs": [],
   "source": [
    "y = a[[\"Loan_Status\"]]\n",
    "x = a.drop(labels=[\"Loan_ID\",\"Loan_Status\"],axis=1)"
   ]
  },
  {
   "cell_type": "markdown",
   "id": "442e15f0",
   "metadata": {},
   "source": [
    "# Convert  'y'  in LabelEncoded format"
   ]
  },
  {
   "cell_type": "code",
   "execution_count": 8,
   "id": "a3d9def7",
   "metadata": {},
   "outputs": [],
   "source": [
    "from sklearn.preprocessing import LabelEncoder\n",
    "le = LabelEncoder()\n",
    "y1 = pd.DataFrame(le.fit_transform(y),columns=['Loan_Status'])"
   ]
  },
  {
   "cell_type": "code",
   "execution_count": 9,
   "id": "23a3c0e8",
   "metadata": {},
   "outputs": [
    {
     "data": {
      "text/html": [
       "<div>\n",
       "<style scoped>\n",
       "    .dataframe tbody tr th:only-of-type {\n",
       "        vertical-align: middle;\n",
       "    }\n",
       "\n",
       "    .dataframe tbody tr th {\n",
       "        vertical-align: top;\n",
       "    }\n",
       "\n",
       "    .dataframe thead th {\n",
       "        text-align: right;\n",
       "    }\n",
       "</style>\n",
       "<table border=\"1\" class=\"dataframe\">\n",
       "  <thead>\n",
       "    <tr style=\"text-align: right;\">\n",
       "      <th></th>\n",
       "      <th>Loan_Status</th>\n",
       "    </tr>\n",
       "  </thead>\n",
       "  <tbody>\n",
       "    <tr>\n",
       "      <th>0</th>\n",
       "      <td>1</td>\n",
       "    </tr>\n",
       "    <tr>\n",
       "      <th>1</th>\n",
       "      <td>0</td>\n",
       "    </tr>\n",
       "    <tr>\n",
       "      <th>2</th>\n",
       "      <td>1</td>\n",
       "    </tr>\n",
       "    <tr>\n",
       "      <th>3</th>\n",
       "      <td>1</td>\n",
       "    </tr>\n",
       "    <tr>\n",
       "      <th>4</th>\n",
       "      <td>1</td>\n",
       "    </tr>\n",
       "  </tbody>\n",
       "</table>\n",
       "</div>"
      ],
      "text/plain": [
       "   Loan_Status\n",
       "0            1\n",
       "1            0\n",
       "2            1\n",
       "3            1\n",
       "4            1"
      ]
     },
     "execution_count": 9,
     "metadata": {},
     "output_type": "execute_result"
    }
   ],
   "source": [
    "y1.head()"
   ]
  },
  {
   "cell_type": "code",
   "execution_count": 10,
   "id": "7ca677cc",
   "metadata": {},
   "outputs": [],
   "source": [
    "cat,con = catconsep(x)"
   ]
  },
  {
   "cell_type": "code",
   "execution_count": 11,
   "id": "9657bb10",
   "metadata": {},
   "outputs": [
    {
     "data": {
      "text/plain": [
       "['Gender',\n",
       " 'Married',\n",
       " 'Dependents',\n",
       " 'Education',\n",
       " 'Self_Employed',\n",
       " 'Property_Area']"
      ]
     },
     "execution_count": 11,
     "metadata": {},
     "output_type": "execute_result"
    }
   ],
   "source": [
    "cat"
   ]
  },
  {
   "cell_type": "code",
   "execution_count": 12,
   "id": "b56a5653",
   "metadata": {},
   "outputs": [
    {
     "data": {
      "text/plain": [
       "['ApplicantIncome',\n",
       " 'CoapplicantIncome',\n",
       " 'LoanAmount',\n",
       " 'Loan_Amount_Term',\n",
       " 'Credit_History']"
      ]
     },
     "execution_count": 12,
     "metadata": {},
     "output_type": "execute_result"
    }
   ],
   "source": [
    "con"
   ]
  },
  {
   "cell_type": "markdown",
   "id": "21944fea",
   "metadata": {},
   "source": [
    "# Preprocessing(missing data treatment, standardization, OHE)"
   ]
  },
  {
   "cell_type": "code",
   "execution_count": 13,
   "id": "165be703",
   "metadata": {},
   "outputs": [],
   "source": [
    "replacer(x)"
   ]
  },
  {
   "cell_type": "code",
   "execution_count": 14,
   "id": "3857a9fd",
   "metadata": {},
   "outputs": [],
   "source": [
    "x1 = preprocessing(x)"
   ]
  },
  {
   "cell_type": "markdown",
   "id": "9fec1cde",
   "metadata": {},
   "source": [
    "# Create a neural network"
   ]
  },
  {
   "cell_type": "code",
   "execution_count": 35,
   "id": "74f82f76",
   "metadata": {},
   "outputs": [],
   "source": [
    "from keras.layers import Dense, Dropout\n",
    "from keras.models import Sequential\n",
    "from keras.callbacks import EarlyStopping"
   ]
  },
  {
   "cell_type": "code",
   "execution_count": 29,
   "id": "8759dcbf",
   "metadata": {},
   "outputs": [],
   "source": [
    "nn = Sequential()\n",
    "nn.add(Dense(32,activation='relu',input_dim = x1.shape[1]))        # Input Layer\n",
    "nn.add(Dense(32,activation='relu'))                              # Hidden Layer\n",
    "nn.add(Dense(1,activation='sigmoid'))                          # Output Layer"
   ]
  },
  {
   "cell_type": "code",
   "execution_count": 31,
   "id": "f1292f46",
   "metadata": {},
   "outputs": [
    {
     "name": "stdout",
     "output_type": "stream",
     "text": [
      "Epoch 1/30\n",
      "16/16 [==============================] - 0s 21ms/step - loss: 0.6352 - accuracy: 0.6823 - val_loss: 0.6228 - val_accuracy: 0.6911\n",
      "Epoch 2/30\n",
      "16/16 [==============================] - 0s 2ms/step - loss: 0.5773 - accuracy: 0.7393 - val_loss: 0.5895 - val_accuracy: 0.7073\n",
      "Epoch 3/30\n",
      "16/16 [==============================] - 0s 2ms/step - loss: 0.5412 - accuracy: 0.7760 - val_loss: 0.5614 - val_accuracy: 0.7967\n",
      "Epoch 4/30\n",
      "16/16 [==============================] - 0s 2ms/step - loss: 0.5134 - accuracy: 0.7943 - val_loss: 0.5345 - val_accuracy: 0.8049\n",
      "Epoch 5/30\n",
      "16/16 [==============================] - 0s 2ms/step - loss: 0.4890 - accuracy: 0.8045 - val_loss: 0.5149 - val_accuracy: 0.8130\n",
      "Epoch 6/30\n",
      "16/16 [==============================] - 0s 2ms/step - loss: 0.4753 - accuracy: 0.8065 - val_loss: 0.5041 - val_accuracy: 0.7886\n",
      "Epoch 7/30\n",
      "16/16 [==============================] - 0s 3ms/step - loss: 0.4629 - accuracy: 0.8045 - val_loss: 0.4993 - val_accuracy: 0.7967\n",
      "Epoch 8/30\n",
      "16/16 [==============================] - 0s 2ms/step - loss: 0.4564 - accuracy: 0.8086 - val_loss: 0.4930 - val_accuracy: 0.7967\n",
      "Epoch 9/30\n",
      "16/16 [==============================] - 0s 2ms/step - loss: 0.4509 - accuracy: 0.8106 - val_loss: 0.4899 - val_accuracy: 0.7886\n",
      "Epoch 10/30\n",
      "16/16 [==============================] - 0s 2ms/step - loss: 0.4464 - accuracy: 0.8167 - val_loss: 0.4847 - val_accuracy: 0.7967\n",
      "Epoch 11/30\n",
      "16/16 [==============================] - 0s 3ms/step - loss: 0.4418 - accuracy: 0.8167 - val_loss: 0.4857 - val_accuracy: 0.7967\n",
      "Epoch 12/30\n",
      "16/16 [==============================] - 0s 3ms/step - loss: 0.4389 - accuracy: 0.8126 - val_loss: 0.4887 - val_accuracy: 0.7724\n",
      "Epoch 13/30\n",
      "16/16 [==============================] - 0s 3ms/step - loss: 0.4364 - accuracy: 0.8126 - val_loss: 0.4906 - val_accuracy: 0.7805\n",
      "Epoch 14/30\n",
      "16/16 [==============================] - 0s 3ms/step - loss: 0.4330 - accuracy: 0.8167 - val_loss: 0.4909 - val_accuracy: 0.7886\n",
      "Epoch 15/30\n",
      "16/16 [==============================] - 0s 3ms/step - loss: 0.4310 - accuracy: 0.8167 - val_loss: 0.4929 - val_accuracy: 0.7967\n",
      "Epoch 16/30\n",
      "16/16 [==============================] - 0s 3ms/step - loss: 0.4287 - accuracy: 0.8147 - val_loss: 0.4949 - val_accuracy: 0.7967\n",
      "Epoch 17/30\n",
      "16/16 [==============================] - 0s 3ms/step - loss: 0.4271 - accuracy: 0.8167 - val_loss: 0.4937 - val_accuracy: 0.8130\n",
      "Epoch 18/30\n",
      "16/16 [==============================] - 0s 3ms/step - loss: 0.4237 - accuracy: 0.8208 - val_loss: 0.4949 - val_accuracy: 0.7967\n",
      "Epoch 19/30\n",
      "16/16 [==============================] - 0s 3ms/step - loss: 0.4215 - accuracy: 0.8167 - val_loss: 0.4945 - val_accuracy: 0.8211\n",
      "Epoch 20/30\n",
      "16/16 [==============================] - 0s 3ms/step - loss: 0.4193 - accuracy: 0.8208 - val_loss: 0.4984 - val_accuracy: 0.7967\n",
      "Epoch 21/30\n",
      "16/16 [==============================] - 0s 3ms/step - loss: 0.4200 - accuracy: 0.8167 - val_loss: 0.4961 - val_accuracy: 0.8049\n",
      "Epoch 22/30\n",
      "16/16 [==============================] - 0s 3ms/step - loss: 0.4169 - accuracy: 0.8147 - val_loss: 0.5005 - val_accuracy: 0.8049\n",
      "Epoch 23/30\n",
      "16/16 [==============================] - 0s 3ms/step - loss: 0.4147 - accuracy: 0.8269 - val_loss: 0.5029 - val_accuracy: 0.8049\n",
      "Epoch 24/30\n",
      "16/16 [==============================] - 0s 3ms/step - loss: 0.4129 - accuracy: 0.8330 - val_loss: 0.5011 - val_accuracy: 0.8049\n",
      "Epoch 25/30\n",
      "16/16 [==============================] - 0s 3ms/step - loss: 0.4127 - accuracy: 0.8228 - val_loss: 0.4990 - val_accuracy: 0.8130\n",
      "Epoch 26/30\n",
      "16/16 [==============================] - 0s 3ms/step - loss: 0.4090 - accuracy: 0.8269 - val_loss: 0.5025 - val_accuracy: 0.8130\n",
      "Epoch 27/30\n",
      "16/16 [==============================] - 0s 3ms/step - loss: 0.4084 - accuracy: 0.8289 - val_loss: 0.5045 - val_accuracy: 0.8130\n",
      "Epoch 28/30\n",
      "16/16 [==============================] - 0s 2ms/step - loss: 0.4067 - accuracy: 0.8289 - val_loss: 0.5053 - val_accuracy: 0.7967\n",
      "Epoch 29/30\n",
      "16/16 [==============================] - 0s 2ms/step - loss: 0.4044 - accuracy: 0.8350 - val_loss: 0.5049 - val_accuracy: 0.7886\n",
      "Epoch 30/30\n",
      "16/16 [==============================] - 0s 2ms/step - loss: 0.4026 - accuracy: 0.8310 - val_loss: 0.5079 - val_accuracy: 0.8130\n"
     ]
    },
    {
     "data": {
      "text/plain": [
       "<tensorflow.python.keras.callbacks.History at 0x295a9bb14f0>"
      ]
     },
     "execution_count": 31,
     "metadata": {},
     "output_type": "execute_result"
    }
   ],
   "source": [
    "nn.compile(loss = \"binary_crossentropy\",metrics=[\"accuracy\"])\n",
    "nn.fit(x1,y1,validation_split=0.2,epochs=30)"
   ]
  },
  {
   "cell_type": "markdown",
   "id": "8e2ccc6c",
   "metadata": {},
   "source": [
    "# keras tuner"
   ]
  },
  {
   "cell_type": "code",
   "execution_count": 34,
   "id": "f27f1fd9",
   "metadata": {},
   "outputs": [],
   "source": [
    "def model_builder(hp):\n",
    "    nn = Sequential()\n",
    "    nn.add(Dense(32, activation = 'relu', input_dim = x1.shape[1]))\n",
    "    x = hp.Int('units', min_value = 32, max_value = 512, step= 32)\n",
    "    nn.add(Dense(units=x))\n",
    "    lr = hp.Choice('rate', values=[0.1,0.2,0.3,0.4,0.5,0.6,0.7,0.8,0.9])\n",
    "    nn.add(Dropout(rate = lr))\n",
    "    nn.add(Dense(1,activation='sigmoid'))\n",
    "    nn.compile(loss='binary_crossentropy', metrics=['accuracy'], optimizer = 'Adam')\n",
    "    return nn"
   ]
  },
  {
   "cell_type": "code",
   "execution_count": 37,
   "id": "52dc87c8",
   "metadata": {},
   "outputs": [],
   "source": [
    "import keras_tuner as kt\n",
    "tuner = kt.Hyperband(model_builder, objective='val_accuracy', max_epochs=10,\n",
    "                    directory= 'C:/Users/Lenovo/Downloads/kt5',\n",
    "                     project_name = 'loan_status')"
   ]
  },
  {
   "cell_type": "code",
   "execution_count": 38,
   "id": "2cb7cf81",
   "metadata": {},
   "outputs": [],
   "source": [
    "es = EarlyStopping(patience=20, monitor = 'val_loss')"
   ]
  },
  {
   "cell_type": "code",
   "execution_count": 39,
   "id": "f6d2f6c7",
   "metadata": {},
   "outputs": [
    {
     "name": "stdout",
     "output_type": "stream",
     "text": [
      "Trial 30 Complete [00h 00m 01s]\n",
      "val_accuracy: 0.8292682766914368\n",
      "\n",
      "Best val_accuracy So Far: 0.8373983502388\n",
      "Total elapsed time: 00h 00m 40s\n",
      "INFO:tensorflow:Oracle triggered exit\n"
     ]
    }
   ],
   "source": [
    "tuner.search(x1, y1, callbacks = [es], validation_split= 0.2, epochs = 50)"
   ]
  },
  {
   "cell_type": "code",
   "execution_count": 45,
   "id": "2c3307f0",
   "metadata": {},
   "outputs": [
    {
     "data": {
      "text/plain": [
       "352"
      ]
     },
     "execution_count": 45,
     "metadata": {},
     "output_type": "execute_result"
    }
   ],
   "source": [
    "tuner.get_best_hyperparameters(num_trials=1)[0].get('units')"
   ]
  },
  {
   "cell_type": "code",
   "execution_count": 48,
   "id": "e5e19538",
   "metadata": {},
   "outputs": [
    {
     "data": {
      "text/plain": [
       "0.5"
      ]
     },
     "execution_count": 48,
     "metadata": {},
     "output_type": "execute_result"
    }
   ],
   "source": [
    "tuner.get_best_hyperparameters()[0].get('rate')"
   ]
  },
  {
   "cell_type": "code",
   "execution_count": null,
   "id": "db2d54a0",
   "metadata": {},
   "outputs": [],
   "source": []
  },
  {
   "cell_type": "code",
   "execution_count": null,
   "id": "e6bbff79",
   "metadata": {},
   "outputs": [],
   "source": []
  },
  {
   "cell_type": "code",
   "execution_count": 50,
   "id": "623e04b9",
   "metadata": {},
   "outputs": [
    {
     "name": "stdout",
     "output_type": "stream",
     "text": [
      "Epoch 1/100\n",
      "5/5 [==============================] - 0s 51ms/step - loss: 0.6358 - accuracy: 0.6904 - val_loss: 0.5959 - val_accuracy: 0.6992\n",
      "Epoch 2/100\n",
      "5/5 [==============================] - 0s 9ms/step - loss: 0.5727 - accuracy: 0.7352 - val_loss: 0.5536 - val_accuracy: 0.7561\n",
      "Epoch 3/100\n",
      "5/5 [==============================] - 0s 8ms/step - loss: 0.5271 - accuracy: 0.7821 - val_loss: 0.5251 - val_accuracy: 0.8211\n",
      "Epoch 4/100\n",
      "5/5 [==============================] - 0s 8ms/step - loss: 0.5022 - accuracy: 0.7984 - val_loss: 0.5064 - val_accuracy: 0.8211\n",
      "Epoch 5/100\n",
      "5/5 [==============================] - 0s 8ms/step - loss: 0.4904 - accuracy: 0.8004 - val_loss: 0.4937 - val_accuracy: 0.8293\n",
      "Epoch 6/100\n",
      "5/5 [==============================] - 0s 8ms/step - loss: 0.4825 - accuracy: 0.8045 - val_loss: 0.4858 - val_accuracy: 0.8374\n",
      "Epoch 7/100\n",
      "5/5 [==============================] - 0s 9ms/step - loss: 0.4711 - accuracy: 0.7984 - val_loss: 0.4810 - val_accuracy: 0.8374\n",
      "Epoch 8/100\n",
      "5/5 [==============================] - 0s 9ms/step - loss: 0.4619 - accuracy: 0.7984 - val_loss: 0.4774 - val_accuracy: 0.8374\n",
      "Epoch 9/100\n",
      "5/5 [==============================] - 0s 8ms/step - loss: 0.4487 - accuracy: 0.8004 - val_loss: 0.4781 - val_accuracy: 0.8374\n",
      "Epoch 10/100\n",
      "5/5 [==============================] - 0s 9ms/step - loss: 0.4519 - accuracy: 0.8045 - val_loss: 0.4774 - val_accuracy: 0.8374\n",
      "Epoch 11/100\n",
      "5/5 [==============================] - 0s 8ms/step - loss: 0.4488 - accuracy: 0.8024 - val_loss: 0.4802 - val_accuracy: 0.8374\n",
      "Epoch 12/100\n",
      "5/5 [==============================] - 0s 8ms/step - loss: 0.4475 - accuracy: 0.8024 - val_loss: 0.4843 - val_accuracy: 0.8211\n",
      "Epoch 13/100\n",
      "5/5 [==============================] - 0s 8ms/step - loss: 0.4457 - accuracy: 0.8045 - val_loss: 0.4837 - val_accuracy: 0.8374\n",
      "Epoch 14/100\n",
      "5/5 [==============================] - 0s 9ms/step - loss: 0.4390 - accuracy: 0.8065 - val_loss: 0.4845 - val_accuracy: 0.8211\n",
      "Epoch 15/100\n",
      "5/5 [==============================] - 0s 8ms/step - loss: 0.4364 - accuracy: 0.8086 - val_loss: 0.4859 - val_accuracy: 0.8293\n",
      "Epoch 16/100\n",
      "5/5 [==============================] - 0s 8ms/step - loss: 0.4294 - accuracy: 0.8147 - val_loss: 0.4892 - val_accuracy: 0.8211\n",
      "Epoch 17/100\n",
      "5/5 [==============================] - 0s 8ms/step - loss: 0.4316 - accuracy: 0.8187 - val_loss: 0.4917 - val_accuracy: 0.8211\n",
      "Epoch 18/100\n",
      "5/5 [==============================] - 0s 8ms/step - loss: 0.4274 - accuracy: 0.8147 - val_loss: 0.4942 - val_accuracy: 0.8049\n",
      "Epoch 19/100\n",
      "5/5 [==============================] - 0s 8ms/step - loss: 0.4299 - accuracy: 0.8045 - val_loss: 0.4949 - val_accuracy: 0.8130\n",
      "Epoch 20/100\n",
      "5/5 [==============================] - 0s 12ms/step - loss: 0.4181 - accuracy: 0.8147 - val_loss: 0.4986 - val_accuracy: 0.7886\n",
      "Epoch 21/100\n",
      "5/5 [==============================] - 0s 7ms/step - loss: 0.4268 - accuracy: 0.8187 - val_loss: 0.5007 - val_accuracy: 0.7886\n",
      "Epoch 22/100\n",
      "5/5 [==============================] - 0s 6ms/step - loss: 0.4248 - accuracy: 0.8126 - val_loss: 0.5024 - val_accuracy: 0.7967\n",
      "Epoch 23/100\n",
      "5/5 [==============================] - 0s 7ms/step - loss: 0.4143 - accuracy: 0.8228 - val_loss: 0.5047 - val_accuracy: 0.7886\n",
      "Epoch 24/100\n",
      "5/5 [==============================] - 0s 6ms/step - loss: 0.4182 - accuracy: 0.8187 - val_loss: 0.5054 - val_accuracy: 0.8049\n",
      "Epoch 25/100\n",
      "5/5 [==============================] - 0s 6ms/step - loss: 0.4086 - accuracy: 0.8187 - val_loss: 0.5055 - val_accuracy: 0.7886\n",
      "Epoch 26/100\n",
      "5/5 [==============================] - 0s 6ms/step - loss: 0.4050 - accuracy: 0.8208 - val_loss: 0.5045 - val_accuracy: 0.8049\n",
      "Epoch 27/100\n",
      "5/5 [==============================] - 0s 6ms/step - loss: 0.4188 - accuracy: 0.8187 - val_loss: 0.5116 - val_accuracy: 0.7886\n",
      "Epoch 28/100\n",
      "5/5 [==============================] - 0s 6ms/step - loss: 0.4027 - accuracy: 0.8187 - val_loss: 0.5129 - val_accuracy: 0.8130\n",
      "Epoch 29/100\n",
      "5/5 [==============================] - 0s 7ms/step - loss: 0.4111 - accuracy: 0.8228 - val_loss: 0.5130 - val_accuracy: 0.8049\n",
      "Epoch 30/100\n",
      "5/5 [==============================] - 0s 6ms/step - loss: 0.4023 - accuracy: 0.8167 - val_loss: 0.5152 - val_accuracy: 0.7967\n",
      "Epoch 31/100\n",
      "5/5 [==============================] - 0s 6ms/step - loss: 0.4111 - accuracy: 0.8126 - val_loss: 0.5163 - val_accuracy: 0.7967\n",
      "Epoch 32/100\n",
      "5/5 [==============================] - 0s 6ms/step - loss: 0.3951 - accuracy: 0.8289 - val_loss: 0.5159 - val_accuracy: 0.8211\n",
      "Epoch 33/100\n",
      "5/5 [==============================] - 0s 6ms/step - loss: 0.3956 - accuracy: 0.8147 - val_loss: 0.5234 - val_accuracy: 0.7886\n",
      "Epoch 34/100\n",
      "5/5 [==============================] - 0s 6ms/step - loss: 0.3982 - accuracy: 0.8269 - val_loss: 0.5216 - val_accuracy: 0.8049\n",
      "Epoch 35/100\n",
      "5/5 [==============================] - 0s 6ms/step - loss: 0.3938 - accuracy: 0.8167 - val_loss: 0.5187 - val_accuracy: 0.8130\n",
      "Epoch 36/100\n",
      "5/5 [==============================] - 0s 6ms/step - loss: 0.3915 - accuracy: 0.8330 - val_loss: 0.5210 - val_accuracy: 0.7967\n",
      "Epoch 37/100\n",
      "5/5 [==============================] - 0s 5ms/step - loss: 0.3889 - accuracy: 0.8289 - val_loss: 0.5229 - val_accuracy: 0.8049\n",
      "Epoch 38/100\n",
      "5/5 [==============================] - 0s 5ms/step - loss: 0.3876 - accuracy: 0.8269 - val_loss: 0.5247 - val_accuracy: 0.7886\n",
      "Epoch 39/100\n",
      "5/5 [==============================] - 0s 5ms/step - loss: 0.3829 - accuracy: 0.8330 - val_loss: 0.5267 - val_accuracy: 0.7805\n",
      "Epoch 40/100\n",
      "5/5 [==============================] - 0s 5ms/step - loss: 0.3922 - accuracy: 0.8432 - val_loss: 0.5326 - val_accuracy: 0.8049\n",
      "Epoch 41/100\n",
      "5/5 [==============================] - 0s 5ms/step - loss: 0.3888 - accuracy: 0.8289 - val_loss: 0.5318 - val_accuracy: 0.7642\n",
      "Epoch 42/100\n",
      "5/5 [==============================] - 0s 5ms/step - loss: 0.3820 - accuracy: 0.8310 - val_loss: 0.5302 - val_accuracy: 0.7724\n",
      "Epoch 43/100\n",
      "5/5 [==============================] - 0s 6ms/step - loss: 0.3760 - accuracy: 0.8310 - val_loss: 0.5342 - val_accuracy: 0.7805\n",
      "Epoch 44/100\n",
      "5/5 [==============================] - 0s 6ms/step - loss: 0.3779 - accuracy: 0.8310 - val_loss: 0.5318 - val_accuracy: 0.8049\n",
      "Epoch 45/100\n",
      "5/5 [==============================] - 0s 5ms/step - loss: 0.3832 - accuracy: 0.8289 - val_loss: 0.5330 - val_accuracy: 0.7886\n",
      "Epoch 46/100\n",
      "5/5 [==============================] - 0s 5ms/step - loss: 0.3856 - accuracy: 0.8310 - val_loss: 0.5360 - val_accuracy: 0.7805\n",
      "Epoch 47/100\n",
      "5/5 [==============================] - 0s 5ms/step - loss: 0.3727 - accuracy: 0.8350 - val_loss: 0.5410 - val_accuracy: 0.7886\n",
      "Epoch 48/100\n",
      "5/5 [==============================] - 0s 9ms/step - loss: 0.3812 - accuracy: 0.8310 - val_loss: 0.5396 - val_accuracy: 0.7642\n",
      "Epoch 49/100\n",
      "5/5 [==============================] - 0s 6ms/step - loss: 0.3762 - accuracy: 0.8248 - val_loss: 0.5446 - val_accuracy: 0.7724\n",
      "Epoch 50/100\n",
      "5/5 [==============================] - 0s 6ms/step - loss: 0.3727 - accuracy: 0.8411 - val_loss: 0.5467 - val_accuracy: 0.7886\n",
      "Epoch 51/100\n",
      "5/5 [==============================] - 0s 7ms/step - loss: 0.3779 - accuracy: 0.8391 - val_loss: 0.5450 - val_accuracy: 0.7724\n",
      "Epoch 52/100\n",
      "5/5 [==============================] - 0s 7ms/step - loss: 0.3703 - accuracy: 0.8411 - val_loss: 0.5440 - val_accuracy: 0.7886\n",
      "Epoch 53/100\n",
      "5/5 [==============================] - 0s 6ms/step - loss: 0.3751 - accuracy: 0.8371 - val_loss: 0.5439 - val_accuracy: 0.7724\n",
      "Epoch 54/100\n",
      "5/5 [==============================] - 0s 6ms/step - loss: 0.3643 - accuracy: 0.8432 - val_loss: 0.5470 - val_accuracy: 0.7724\n",
      "Epoch 55/100\n",
      "5/5 [==============================] - 0s 6ms/step - loss: 0.3662 - accuracy: 0.8391 - val_loss: 0.5477 - val_accuracy: 0.7805\n",
      "Epoch 56/100\n",
      "5/5 [==============================] - 0s 6ms/step - loss: 0.3671 - accuracy: 0.8350 - val_loss: 0.5489 - val_accuracy: 0.7724\n",
      "Epoch 57/100\n",
      "5/5 [==============================] - 0s 6ms/step - loss: 0.3593 - accuracy: 0.8452 - val_loss: 0.5509 - val_accuracy: 0.7805\n",
      "Epoch 58/100\n",
      "5/5 [==============================] - 0s 6ms/step - loss: 0.3583 - accuracy: 0.8411 - val_loss: 0.5532 - val_accuracy: 0.7724\n",
      "Epoch 59/100\n",
      "5/5 [==============================] - 0s 6ms/step - loss: 0.3552 - accuracy: 0.8473 - val_loss: 0.5574 - val_accuracy: 0.7805\n",
      "Epoch 60/100\n",
      "5/5 [==============================] - 0s 6ms/step - loss: 0.3586 - accuracy: 0.8411 - val_loss: 0.5542 - val_accuracy: 0.7724\n",
      "Epoch 61/100\n",
      "5/5 [==============================] - 0s 6ms/step - loss: 0.3486 - accuracy: 0.8534 - val_loss: 0.5568 - val_accuracy: 0.7724\n",
      "Epoch 62/100\n",
      "5/5 [==============================] - 0s 6ms/step - loss: 0.3582 - accuracy: 0.8473 - val_loss: 0.5645 - val_accuracy: 0.7886\n",
      "Epoch 63/100\n",
      "5/5 [==============================] - 0s 6ms/step - loss: 0.3526 - accuracy: 0.8493 - val_loss: 0.5637 - val_accuracy: 0.7642\n",
      "Epoch 64/100\n",
      "5/5 [==============================] - 0s 6ms/step - loss: 0.3507 - accuracy: 0.8554 - val_loss: 0.5672 - val_accuracy: 0.7805\n",
      "Epoch 65/100\n",
      "5/5 [==============================] - 0s 6ms/step - loss: 0.3470 - accuracy: 0.8534 - val_loss: 0.5686 - val_accuracy: 0.7967\n",
      "Epoch 66/100\n",
      "5/5 [==============================] - 0s 6ms/step - loss: 0.3415 - accuracy: 0.8534 - val_loss: 0.5741 - val_accuracy: 0.7724\n",
      "Epoch 67/100\n",
      "5/5 [==============================] - 0s 6ms/step - loss: 0.3467 - accuracy: 0.8513 - val_loss: 0.5742 - val_accuracy: 0.7724\n",
      "Epoch 68/100\n",
      "5/5 [==============================] - 0s 6ms/step - loss: 0.3410 - accuracy: 0.8554 - val_loss: 0.5669 - val_accuracy: 0.7642\n",
      "Epoch 69/100\n",
      "5/5 [==============================] - 0s 6ms/step - loss: 0.3399 - accuracy: 0.8534 - val_loss: 0.5691 - val_accuracy: 0.7642\n",
      "Epoch 70/100\n",
      "5/5 [==============================] - 0s 6ms/step - loss: 0.3482 - accuracy: 0.8574 - val_loss: 0.5711 - val_accuracy: 0.7805\n",
      "Epoch 71/100\n",
      "5/5 [==============================] - 0s 6ms/step - loss: 0.3410 - accuracy: 0.8534 - val_loss: 0.5713 - val_accuracy: 0.7805\n",
      "Epoch 72/100\n",
      "5/5 [==============================] - 0s 6ms/step - loss: 0.3394 - accuracy: 0.8513 - val_loss: 0.5778 - val_accuracy: 0.7967\n",
      "Epoch 73/100\n",
      "5/5 [==============================] - 0s 7ms/step - loss: 0.3389 - accuracy: 0.8513 - val_loss: 0.5795 - val_accuracy: 0.7805\n",
      "Epoch 74/100\n",
      "5/5 [==============================] - 0s 6ms/step - loss: 0.3256 - accuracy: 0.8737 - val_loss: 0.5849 - val_accuracy: 0.7724\n",
      "Epoch 75/100\n",
      "5/5 [==============================] - 0s 7ms/step - loss: 0.3326 - accuracy: 0.8554 - val_loss: 0.5902 - val_accuracy: 0.7561\n",
      "Epoch 76/100\n",
      "5/5 [==============================] - 0s 6ms/step - loss: 0.3289 - accuracy: 0.8615 - val_loss: 0.5893 - val_accuracy: 0.7724\n",
      "Epoch 77/100\n",
      "5/5 [==============================] - 0s 6ms/step - loss: 0.3394 - accuracy: 0.8595 - val_loss: 0.5929 - val_accuracy: 0.7886\n",
      "Epoch 78/100\n",
      "5/5 [==============================] - 0s 6ms/step - loss: 0.3271 - accuracy: 0.8513 - val_loss: 0.5980 - val_accuracy: 0.7642\n",
      "Epoch 79/100\n",
      "5/5 [==============================] - 0s 5ms/step - loss: 0.3153 - accuracy: 0.8615 - val_loss: 0.5969 - val_accuracy: 0.7724\n",
      "Epoch 80/100\n",
      "5/5 [==============================] - 0s 6ms/step - loss: 0.3208 - accuracy: 0.8615 - val_loss: 0.5897 - val_accuracy: 0.8049\n",
      "Epoch 81/100\n",
      "5/5 [==============================] - 0s 5ms/step - loss: 0.3249 - accuracy: 0.8635 - val_loss: 0.5949 - val_accuracy: 0.7561\n",
      "Epoch 82/100\n",
      "5/5 [==============================] - 0s 5ms/step - loss: 0.3201 - accuracy: 0.8656 - val_loss: 0.6026 - val_accuracy: 0.7561\n",
      "Epoch 83/100\n",
      "5/5 [==============================] - 0s 5ms/step - loss: 0.3168 - accuracy: 0.8737 - val_loss: 0.6043 - val_accuracy: 0.7886\n",
      "Epoch 84/100\n",
      "5/5 [==============================] - 0s 5ms/step - loss: 0.3215 - accuracy: 0.8676 - val_loss: 0.6055 - val_accuracy: 0.7724\n",
      "Epoch 85/100\n",
      "5/5 [==============================] - 0s 5ms/step - loss: 0.3126 - accuracy: 0.8656 - val_loss: 0.6124 - val_accuracy: 0.7480\n",
      "Epoch 86/100\n",
      "5/5 [==============================] - 0s 5ms/step - loss: 0.3221 - accuracy: 0.8554 - val_loss: 0.6198 - val_accuracy: 0.7317\n",
      "Epoch 87/100\n",
      "5/5 [==============================] - 0s 7ms/step - loss: 0.3151 - accuracy: 0.8758 - val_loss: 0.6261 - val_accuracy: 0.7642\n",
      "Epoch 88/100\n",
      "5/5 [==============================] - 0s 5ms/step - loss: 0.3149 - accuracy: 0.8615 - val_loss: 0.6318 - val_accuracy: 0.7724\n",
      "Epoch 89/100\n",
      "5/5 [==============================] - 0s 5ms/step - loss: 0.3095 - accuracy: 0.8595 - val_loss: 0.6240 - val_accuracy: 0.7724\n",
      "Epoch 90/100\n",
      "5/5 [==============================] - 0s 5ms/step - loss: 0.3155 - accuracy: 0.8656 - val_loss: 0.6262 - val_accuracy: 0.7642\n",
      "Epoch 91/100\n",
      "5/5 [==============================] - 0s 5ms/step - loss: 0.3111 - accuracy: 0.8635 - val_loss: 0.6223 - val_accuracy: 0.7642\n",
      "Epoch 92/100\n",
      "5/5 [==============================] - 0s 5ms/step - loss: 0.3112 - accuracy: 0.8737 - val_loss: 0.6312 - val_accuracy: 0.7642\n",
      "Epoch 93/100\n",
      "5/5 [==============================] - 0s 5ms/step - loss: 0.3059 - accuracy: 0.8717 - val_loss: 0.6338 - val_accuracy: 0.7642\n",
      "Epoch 94/100\n",
      "5/5 [==============================] - 0s 6ms/step - loss: 0.3117 - accuracy: 0.8656 - val_loss: 0.6451 - val_accuracy: 0.7805\n",
      "Epoch 95/100\n",
      "5/5 [==============================] - 0s 5ms/step - loss: 0.3025 - accuracy: 0.8676 - val_loss: 0.6497 - val_accuracy: 0.7561\n",
      "Epoch 96/100\n",
      "5/5 [==============================] - 0s 5ms/step - loss: 0.2951 - accuracy: 0.8839 - val_loss: 0.6503 - val_accuracy: 0.7642\n",
      "Epoch 97/100\n",
      "5/5 [==============================] - 0s 6ms/step - loss: 0.2931 - accuracy: 0.8758 - val_loss: 0.6512 - val_accuracy: 0.7642\n",
      "Epoch 98/100\n",
      "5/5 [==============================] - 0s 5ms/step - loss: 0.2952 - accuracy: 0.8819 - val_loss: 0.6672 - val_accuracy: 0.7886\n",
      "Epoch 99/100\n",
      "5/5 [==============================] - 0s 6ms/step - loss: 0.3009 - accuracy: 0.8758 - val_loss: 0.6704 - val_accuracy: 0.7398\n",
      "Epoch 100/100\n",
      "5/5 [==============================] - 0s 5ms/step - loss: 0.2909 - accuracy: 0.8880 - val_loss: 0.6706 - val_accuracy: 0.7561\n"
     ]
    },
    {
     "data": {
      "text/plain": [
       "<tensorflow.python.keras.callbacks.History at 0x295b04948b0>"
      ]
     },
     "execution_count": 50,
     "metadata": {},
     "output_type": "execute_result"
    }
   ],
   "source": [
    "# Gradient Descent\n",
    "\n",
    "nn = Sequential()\n",
    "nn.add(Dense(32,activation='relu',input_dim = x1.shape[1]))       \n",
    "nn.add(Dense(352,activation='relu')) \n",
    "nn.add(Dropout(0.5))\n",
    "nn.add(Dense(1,activation='sigmoid'))  \n",
    "\n",
    "nn.compile(loss='binary_crossentropy', metrics=['accuracy'])\n",
    "nn.fit(x1,y1, validation_split=0.2, epochs=100, batch_size=100)"
   ]
  },
  {
   "cell_type": "raw",
   "id": "f0ab6dea",
   "metadata": {},
   "source": []
  },
  {
   "cell_type": "code",
   "execution_count": 51,
   "id": "b7c697ca",
   "metadata": {},
   "outputs": [
    {
     "name": "stdout",
     "output_type": "stream",
     "text": [
      "Epoch 1/100\n",
      "16/16 [==============================] - 0s 19ms/step - loss: 0.6147 - accuracy: 0.6864 - val_loss: 0.5866 - val_accuracy: 0.6829\n",
      "Epoch 2/100\n",
      "16/16 [==============================] - 0s 5ms/step - loss: 0.5398 - accuracy: 0.7413 - val_loss: 0.5378 - val_accuracy: 0.8130\n",
      "Epoch 3/100\n",
      "16/16 [==============================] - 0s 5ms/step - loss: 0.4855 - accuracy: 0.7984 - val_loss: 0.4984 - val_accuracy: 0.8130\n",
      "Epoch 4/100\n",
      "16/16 [==============================] - 0s 5ms/step - loss: 0.4694 - accuracy: 0.8045 - val_loss: 0.4905 - val_accuracy: 0.8130\n",
      "Epoch 5/100\n",
      "16/16 [==============================] - 0s 5ms/step - loss: 0.4627 - accuracy: 0.8045 - val_loss: 0.4900 - val_accuracy: 0.8130\n",
      "Epoch 6/100\n",
      "16/16 [==============================] - 0s 6ms/step - loss: 0.4423 - accuracy: 0.8024 - val_loss: 0.5003 - val_accuracy: 0.8049\n",
      "Epoch 7/100\n",
      "16/16 [==============================] - 0s 5ms/step - loss: 0.4398 - accuracy: 0.8024 - val_loss: 0.5135 - val_accuracy: 0.8049\n",
      "Epoch 8/100\n",
      "16/16 [==============================] - 0s 5ms/step - loss: 0.4454 - accuracy: 0.7984 - val_loss: 0.4965 - val_accuracy: 0.8049\n",
      "Epoch 9/100\n",
      "16/16 [==============================] - 0s 5ms/step - loss: 0.4375 - accuracy: 0.8106 - val_loss: 0.5054 - val_accuracy: 0.8130\n",
      "Epoch 10/100\n",
      "16/16 [==============================] - 0s 4ms/step - loss: 0.4355 - accuracy: 0.8106 - val_loss: 0.5066 - val_accuracy: 0.8049\n",
      "Epoch 11/100\n",
      "16/16 [==============================] - 0s 4ms/step - loss: 0.4345 - accuracy: 0.8167 - val_loss: 0.4964 - val_accuracy: 0.8130\n",
      "Epoch 12/100\n",
      "16/16 [==============================] - 0s 3ms/step - loss: 0.4265 - accuracy: 0.8126 - val_loss: 0.5081 - val_accuracy: 0.8130\n",
      "Epoch 13/100\n",
      "16/16 [==============================] - 0s 3ms/step - loss: 0.4166 - accuracy: 0.8147 - val_loss: 0.5096 - val_accuracy: 0.8130\n",
      "Epoch 14/100\n",
      "16/16 [==============================] - 0s 3ms/step - loss: 0.4173 - accuracy: 0.8126 - val_loss: 0.5104 - val_accuracy: 0.8211\n",
      "Epoch 15/100\n",
      "16/16 [==============================] - 0s 3ms/step - loss: 0.4091 - accuracy: 0.8147 - val_loss: 0.5177 - val_accuracy: 0.8130\n",
      "Epoch 16/100\n",
      "16/16 [==============================] - 0s 3ms/step - loss: 0.4037 - accuracy: 0.8289 - val_loss: 0.5095 - val_accuracy: 0.8211\n",
      "Epoch 17/100\n",
      "16/16 [==============================] - 0s 3ms/step - loss: 0.4010 - accuracy: 0.8269 - val_loss: 0.5120 - val_accuracy: 0.8211\n",
      "Epoch 18/100\n",
      "16/16 [==============================] - 0s 3ms/step - loss: 0.4067 - accuracy: 0.8208 - val_loss: 0.5072 - val_accuracy: 0.8130\n",
      "Epoch 19/100\n",
      "16/16 [==============================] - 0s 4ms/step - loss: 0.3936 - accuracy: 0.8187 - val_loss: 0.5131 - val_accuracy: 0.8130\n",
      "Epoch 20/100\n",
      "16/16 [==============================] - 0s 3ms/step - loss: 0.3978 - accuracy: 0.8248 - val_loss: 0.5231 - val_accuracy: 0.8049\n",
      "Epoch 21/100\n",
      "16/16 [==============================] - 0s 3ms/step - loss: 0.3830 - accuracy: 0.8289 - val_loss: 0.5160 - val_accuracy: 0.8130\n",
      "Epoch 22/100\n",
      "16/16 [==============================] - 0s 3ms/step - loss: 0.3860 - accuracy: 0.8289 - val_loss: 0.5123 - val_accuracy: 0.8211\n",
      "Epoch 23/100\n",
      "16/16 [==============================] - 0s 4ms/step - loss: 0.3879 - accuracy: 0.8248 - val_loss: 0.5270 - val_accuracy: 0.8211\n",
      "Epoch 24/100\n",
      "16/16 [==============================] - 0s 5ms/step - loss: 0.3868 - accuracy: 0.8289 - val_loss: 0.5260 - val_accuracy: 0.8211\n",
      "Epoch 25/100\n",
      "16/16 [==============================] - 0s 4ms/step - loss: 0.3862 - accuracy: 0.8330 - val_loss: 0.5253 - val_accuracy: 0.8130\n",
      "Epoch 26/100\n",
      "16/16 [==============================] - 0s 3ms/step - loss: 0.3786 - accuracy: 0.8330 - val_loss: 0.5250 - val_accuracy: 0.8130\n",
      "Epoch 27/100\n",
      "16/16 [==============================] - 0s 3ms/step - loss: 0.3663 - accuracy: 0.8473 - val_loss: 0.5404 - val_accuracy: 0.8049\n",
      "Epoch 28/100\n",
      "16/16 [==============================] - 0s 3ms/step - loss: 0.3636 - accuracy: 0.8411 - val_loss: 0.5509 - val_accuracy: 0.7967\n",
      "Epoch 29/100\n",
      "16/16 [==============================] - 0s 3ms/step - loss: 0.3595 - accuracy: 0.8452 - val_loss: 0.5456 - val_accuracy: 0.7967\n",
      "Epoch 30/100\n",
      "16/16 [==============================] - 0s 3ms/step - loss: 0.3580 - accuracy: 0.8493 - val_loss: 0.5467 - val_accuracy: 0.7967\n",
      "Epoch 31/100\n",
      "16/16 [==============================] - 0s 3ms/step - loss: 0.3474 - accuracy: 0.8411 - val_loss: 0.5506 - val_accuracy: 0.8049\n",
      "Epoch 32/100\n",
      "16/16 [==============================] - 0s 3ms/step - loss: 0.3577 - accuracy: 0.8350 - val_loss: 0.5416 - val_accuracy: 0.8130\n",
      "Epoch 33/100\n",
      "16/16 [==============================] - 0s 3ms/step - loss: 0.3602 - accuracy: 0.8452 - val_loss: 0.5559 - val_accuracy: 0.8130\n",
      "Epoch 34/100\n",
      "16/16 [==============================] - 0s 4ms/step - loss: 0.3481 - accuracy: 0.8473 - val_loss: 0.5578 - val_accuracy: 0.8130\n",
      "Epoch 35/100\n",
      "16/16 [==============================] - 0s 4ms/step - loss: 0.3523 - accuracy: 0.8493 - val_loss: 0.5555 - val_accuracy: 0.8293\n",
      "Epoch 36/100\n",
      "16/16 [==============================] - 0s 4ms/step - loss: 0.3343 - accuracy: 0.8697 - val_loss: 0.5731 - val_accuracy: 0.8130\n",
      "Epoch 37/100\n",
      "16/16 [==============================] - 0s 4ms/step - loss: 0.3324 - accuracy: 0.8656 - val_loss: 0.5837 - val_accuracy: 0.8293\n",
      "Epoch 38/100\n",
      "16/16 [==============================] - 0s 4ms/step - loss: 0.3334 - accuracy: 0.8411 - val_loss: 0.5879 - val_accuracy: 0.8211\n",
      "Epoch 39/100\n",
      "16/16 [==============================] - 0s 5ms/step - loss: 0.3344 - accuracy: 0.8656 - val_loss: 0.5715 - val_accuracy: 0.8293\n",
      "Epoch 40/100\n",
      "16/16 [==============================] - 0s 3ms/step - loss: 0.3282 - accuracy: 0.8595 - val_loss: 0.5834 - val_accuracy: 0.8293\n",
      "Epoch 41/100\n",
      "16/16 [==============================] - 0s 3ms/step - loss: 0.3237 - accuracy: 0.8534 - val_loss: 0.5934 - val_accuracy: 0.8211\n",
      "Epoch 42/100\n",
      "16/16 [==============================] - 0s 3ms/step - loss: 0.3222 - accuracy: 0.8615 - val_loss: 0.5922 - val_accuracy: 0.8130\n",
      "Epoch 43/100\n",
      "16/16 [==============================] - 0s 3ms/step - loss: 0.3214 - accuracy: 0.8574 - val_loss: 0.5961 - val_accuracy: 0.8049\n",
      "Epoch 44/100\n",
      "16/16 [==============================] - 0s 3ms/step - loss: 0.3102 - accuracy: 0.8554 - val_loss: 0.6019 - val_accuracy: 0.8130\n",
      "Epoch 45/100\n",
      "16/16 [==============================] - 0s 3ms/step - loss: 0.3167 - accuracy: 0.8513 - val_loss: 0.6059 - val_accuracy: 0.8130\n",
      "Epoch 46/100\n",
      "16/16 [==============================] - 0s 4ms/step - loss: 0.3086 - accuracy: 0.8656 - val_loss: 0.6106 - val_accuracy: 0.8130\n",
      "Epoch 47/100\n",
      "16/16 [==============================] - 0s 5ms/step - loss: 0.3050 - accuracy: 0.8697 - val_loss: 0.6215 - val_accuracy: 0.8049\n",
      "Epoch 48/100\n",
      "16/16 [==============================] - 0s 4ms/step - loss: 0.3077 - accuracy: 0.8778 - val_loss: 0.6336 - val_accuracy: 0.8130\n",
      "Epoch 49/100\n",
      "16/16 [==============================] - 0s 4ms/step - loss: 0.3053 - accuracy: 0.8697 - val_loss: 0.6508 - val_accuracy: 0.8130\n",
      "Epoch 50/100\n",
      "16/16 [==============================] - 0s 4ms/step - loss: 0.2986 - accuracy: 0.8676 - val_loss: 0.6396 - val_accuracy: 0.8049\n",
      "Epoch 51/100\n",
      "16/16 [==============================] - 0s 3ms/step - loss: 0.2917 - accuracy: 0.8717 - val_loss: 0.6431 - val_accuracy: 0.8049\n",
      "Epoch 52/100\n",
      "16/16 [==============================] - 0s 3ms/step - loss: 0.2831 - accuracy: 0.8859 - val_loss: 0.6692 - val_accuracy: 0.8211\n",
      "Epoch 53/100\n",
      "16/16 [==============================] - 0s 3ms/step - loss: 0.2751 - accuracy: 0.8921 - val_loss: 0.6591 - val_accuracy: 0.8130\n",
      "Epoch 54/100\n",
      "16/16 [==============================] - 0s 3ms/step - loss: 0.2901 - accuracy: 0.8758 - val_loss: 0.6772 - val_accuracy: 0.8211\n",
      "Epoch 55/100\n",
      "16/16 [==============================] - 0s 3ms/step - loss: 0.2836 - accuracy: 0.8737 - val_loss: 0.6804 - val_accuracy: 0.7967\n",
      "Epoch 56/100\n",
      "16/16 [==============================] - 0s 3ms/step - loss: 0.2756 - accuracy: 0.8859 - val_loss: 0.6995 - val_accuracy: 0.8130\n",
      "Epoch 57/100\n",
      "16/16 [==============================] - 0s 3ms/step - loss: 0.2699 - accuracy: 0.8900 - val_loss: 0.6853 - val_accuracy: 0.8049\n",
      "Epoch 58/100\n",
      "16/16 [==============================] - 0s 3ms/step - loss: 0.2673 - accuracy: 0.8900 - val_loss: 0.7175 - val_accuracy: 0.8211\n",
      "Epoch 59/100\n",
      "16/16 [==============================] - 0s 3ms/step - loss: 0.2610 - accuracy: 0.8737 - val_loss: 0.7140 - val_accuracy: 0.8049\n",
      "Epoch 60/100\n",
      "16/16 [==============================] - 0s 4ms/step - loss: 0.2627 - accuracy: 0.8961 - val_loss: 0.7673 - val_accuracy: 0.7967\n",
      "Epoch 61/100\n",
      "16/16 [==============================] - 0s 3ms/step - loss: 0.2671 - accuracy: 0.8941 - val_loss: 0.7507 - val_accuracy: 0.7724\n",
      "Epoch 62/100\n",
      "16/16 [==============================] - 0s 3ms/step - loss: 0.2623 - accuracy: 0.8880 - val_loss: 0.7459 - val_accuracy: 0.8049\n",
      "Epoch 63/100\n",
      "16/16 [==============================] - 0s 3ms/step - loss: 0.2607 - accuracy: 0.8880 - val_loss: 0.7531 - val_accuracy: 0.8211\n",
      "Epoch 64/100\n",
      "16/16 [==============================] - 0s 3ms/step - loss: 0.2619 - accuracy: 0.8819 - val_loss: 0.7520 - val_accuracy: 0.8130\n",
      "Epoch 65/100\n",
      "16/16 [==============================] - 0s 3ms/step - loss: 0.2527 - accuracy: 0.8941 - val_loss: 0.7867 - val_accuracy: 0.7967\n",
      "Epoch 66/100\n",
      "16/16 [==============================] - 0s 4ms/step - loss: 0.2459 - accuracy: 0.8921 - val_loss: 0.7666 - val_accuracy: 0.8130\n",
      "Epoch 67/100\n",
      "16/16 [==============================] - 0s 3ms/step - loss: 0.2446 - accuracy: 0.9022 - val_loss: 0.7926 - val_accuracy: 0.8130\n",
      "Epoch 68/100\n",
      "16/16 [==============================] - 0s 3ms/step - loss: 0.2423 - accuracy: 0.9063 - val_loss: 0.8194 - val_accuracy: 0.8049\n",
      "Epoch 69/100\n",
      "16/16 [==============================] - 0s 4ms/step - loss: 0.2337 - accuracy: 0.9043 - val_loss: 0.8158 - val_accuracy: 0.8049\n",
      "Epoch 70/100\n",
      "16/16 [==============================] - 0s 4ms/step - loss: 0.2475 - accuracy: 0.8982 - val_loss: 0.8356 - val_accuracy: 0.7886\n",
      "Epoch 71/100\n",
      "16/16 [==============================] - 0s 3ms/step - loss: 0.2279 - accuracy: 0.9084 - val_loss: 0.8207 - val_accuracy: 0.7805\n",
      "Epoch 72/100\n",
      "16/16 [==============================] - 0s 3ms/step - loss: 0.2303 - accuracy: 0.9043 - val_loss: 0.8585 - val_accuracy: 0.7805\n",
      "Epoch 73/100\n",
      "16/16 [==============================] - 0s 3ms/step - loss: 0.2310 - accuracy: 0.9002 - val_loss: 0.8435 - val_accuracy: 0.7642\n",
      "Epoch 74/100\n",
      "16/16 [==============================] - 0s 3ms/step - loss: 0.2253 - accuracy: 0.9206 - val_loss: 0.8661 - val_accuracy: 0.7724\n",
      "Epoch 75/100\n",
      "16/16 [==============================] - 0s 3ms/step - loss: 0.2290 - accuracy: 0.9084 - val_loss: 0.8579 - val_accuracy: 0.7724\n",
      "Epoch 76/100\n",
      "16/16 [==============================] - 0s 3ms/step - loss: 0.2302 - accuracy: 0.9043 - val_loss: 0.8772 - val_accuracy: 0.7805\n",
      "Epoch 77/100\n",
      "16/16 [==============================] - 0s 3ms/step - loss: 0.2285 - accuracy: 0.9002 - val_loss: 0.8908 - val_accuracy: 0.7480\n",
      "Epoch 78/100\n",
      "16/16 [==============================] - 0s 3ms/step - loss: 0.2142 - accuracy: 0.9104 - val_loss: 0.8916 - val_accuracy: 0.7967\n",
      "Epoch 79/100\n",
      "16/16 [==============================] - 0s 3ms/step - loss: 0.2197 - accuracy: 0.9084 - val_loss: 0.8951 - val_accuracy: 0.7561\n",
      "Epoch 80/100\n",
      "16/16 [==============================] - 0s 3ms/step - loss: 0.2137 - accuracy: 0.9124 - val_loss: 0.9276 - val_accuracy: 0.7642\n",
      "Epoch 81/100\n",
      "16/16 [==============================] - 0s 3ms/step - loss: 0.2090 - accuracy: 0.9206 - val_loss: 0.9215 - val_accuracy: 0.7724\n",
      "Epoch 82/100\n",
      "16/16 [==============================] - 0s 3ms/step - loss: 0.2159 - accuracy: 0.9206 - val_loss: 0.9316 - val_accuracy: 0.7480\n",
      "Epoch 83/100\n",
      "16/16 [==============================] - 0s 3ms/step - loss: 0.2111 - accuracy: 0.9104 - val_loss: 0.9130 - val_accuracy: 0.7724\n",
      "Epoch 84/100\n",
      "16/16 [==============================] - 0s 3ms/step - loss: 0.2064 - accuracy: 0.9185 - val_loss: 0.9445 - val_accuracy: 0.7642\n",
      "Epoch 85/100\n",
      "16/16 [==============================] - 0s 3ms/step - loss: 0.2062 - accuracy: 0.9124 - val_loss: 0.9615 - val_accuracy: 0.7642\n",
      "Epoch 86/100\n",
      "16/16 [==============================] - 0s 3ms/step - loss: 0.2041 - accuracy: 0.9145 - val_loss: 0.9778 - val_accuracy: 0.7317\n",
      "Epoch 87/100\n",
      "16/16 [==============================] - 0s 3ms/step - loss: 0.2035 - accuracy: 0.9185 - val_loss: 0.9537 - val_accuracy: 0.7480\n",
      "Epoch 88/100\n",
      "16/16 [==============================] - 0s 3ms/step - loss: 0.2091 - accuracy: 0.9104 - val_loss: 0.9863 - val_accuracy: 0.7480\n",
      "Epoch 89/100\n",
      "16/16 [==============================] - 0s 3ms/step - loss: 0.2163 - accuracy: 0.9063 - val_loss: 0.9961 - val_accuracy: 0.7317\n",
      "Epoch 90/100\n",
      "16/16 [==============================] - 0s 3ms/step - loss: 0.2073 - accuracy: 0.9124 - val_loss: 0.9921 - val_accuracy: 0.7480\n",
      "Epoch 91/100\n",
      "16/16 [==============================] - 0s 3ms/step - loss: 0.2028 - accuracy: 0.9145 - val_loss: 1.0087 - val_accuracy: 0.7642\n",
      "Epoch 92/100\n",
      "16/16 [==============================] - 0s 3ms/step - loss: 0.1975 - accuracy: 0.9185 - val_loss: 1.0040 - val_accuracy: 0.7480\n",
      "Epoch 93/100\n",
      "16/16 [==============================] - 0s 3ms/step - loss: 0.1979 - accuracy: 0.9308 - val_loss: 1.0116 - val_accuracy: 0.7724\n",
      "Epoch 94/100\n",
      "16/16 [==============================] - 0s 3ms/step - loss: 0.1969 - accuracy: 0.9165 - val_loss: 1.0164 - val_accuracy: 0.7480\n",
      "Epoch 95/100\n",
      "16/16 [==============================] - 0s 3ms/step - loss: 0.1857 - accuracy: 0.9287 - val_loss: 1.0385 - val_accuracy: 0.7642\n",
      "Epoch 96/100\n",
      "16/16 [==============================] - 0s 3ms/step - loss: 0.1920 - accuracy: 0.9165 - val_loss: 1.0357 - val_accuracy: 0.7480\n",
      "Epoch 97/100\n",
      "16/16 [==============================] - 0s 3ms/step - loss: 0.1973 - accuracy: 0.9165 - val_loss: 1.0613 - val_accuracy: 0.7642\n",
      "Epoch 98/100\n",
      "16/16 [==============================] - 0s 3ms/step - loss: 0.2101 - accuracy: 0.9185 - val_loss: 1.1007 - val_accuracy: 0.7398\n",
      "Epoch 99/100\n",
      "16/16 [==============================] - 0s 3ms/step - loss: 0.1971 - accuracy: 0.9287 - val_loss: 1.0566 - val_accuracy: 0.7561\n",
      "Epoch 100/100\n",
      "16/16 [==============================] - 0s 3ms/step - loss: 0.1789 - accuracy: 0.9348 - val_loss: 1.0690 - val_accuracy: 0.7480\n"
     ]
    },
    {
     "data": {
      "text/plain": [
       "<tensorflow.python.keras.callbacks.History at 0x295af21e340>"
      ]
     },
     "execution_count": 51,
     "metadata": {},
     "output_type": "execute_result"
    }
   ],
   "source": [
    "# Adam\n",
    "\n",
    "nn = Sequential()\n",
    "nn.add(Dense(32,activation='relu',input_dim = x1.shape[1]))       \n",
    "nn.add(Dense(352,activation='relu')) \n",
    "nn.add(Dropout(0.5))\n",
    "nn.add(Dense(1,activation='sigmoid'))  \n",
    "\n",
    "nn.compile(optimizer='Adam', loss='binary_crossentropy', metrics=['accuracy'])\n",
    "nn.fit(x1,y1, validation_split=0.2, epochs=100)"
   ]
  },
  {
   "cell_type": "code",
   "execution_count": null,
   "id": "d6ef25cf",
   "metadata": {},
   "outputs": [],
   "source": []
  },
  {
   "cell_type": "raw",
   "id": "41c6a87f",
   "metadata": {},
   "source": [
    "max_accuracy found to be 0.8880 (with gradient descent)\n",
    "max_accuracy found to be 0.9348 (with Adam)"
   ]
  },
  {
   "cell_type": "code",
   "execution_count": null,
   "id": "a497fd2c",
   "metadata": {},
   "outputs": [],
   "source": []
  },
  {
   "cell_type": "markdown",
   "id": "cbaea2b7",
   "metadata": {},
   "source": [
    "# Testing set"
   ]
  },
  {
   "cell_type": "code",
   "execution_count": 52,
   "id": "466c76d4",
   "metadata": {},
   "outputs": [],
   "source": [
    "b = pd.read_csv('C:/Users/Lenovo/Downloads/Loan/testing_set (1).csv')"
   ]
  },
  {
   "cell_type": "code",
   "execution_count": 53,
   "id": "ca2d25ac",
   "metadata": {},
   "outputs": [],
   "source": [
    "b = b.drop(labels=[\"Loan_ID\"],axis=1)"
   ]
  },
  {
   "cell_type": "code",
   "execution_count": 54,
   "id": "4ace4bcd",
   "metadata": {},
   "outputs": [],
   "source": [
    "replacer(b)"
   ]
  },
  {
   "cell_type": "code",
   "execution_count": 55,
   "id": "80b72d27",
   "metadata": {},
   "outputs": [],
   "source": [
    "b1 = preprocessing(b)"
   ]
  },
  {
   "cell_type": "code",
   "execution_count": 56,
   "id": "56b868e3",
   "metadata": {},
   "outputs": [
    {
     "data": {
      "text/plain": [
       "(367, 20)"
      ]
     },
     "execution_count": 56,
     "metadata": {},
     "output_type": "execute_result"
    }
   ],
   "source": [
    "b1.shape"
   ]
  },
  {
   "cell_type": "code",
   "execution_count": 57,
   "id": "dec7c9ad",
   "metadata": {},
   "outputs": [
    {
     "data": {
      "text/plain": [
       "array([[1],\n",
       "       [1],\n",
       "       [1],\n",
       "       [1],\n",
       "       [0],\n",
       "       [1],\n",
       "       [1],\n",
       "       [0],\n",
       "       [1],\n",
       "       [1],\n",
       "       [0],\n",
       "       [1],\n",
       "       [1],\n",
       "       [1],\n",
       "       [1],\n",
       "       [1],\n",
       "       [1],\n",
       "       [1],\n",
       "       [0],\n",
       "       [1],\n",
       "       [1],\n",
       "       [1],\n",
       "       [1],\n",
       "       [1],\n",
       "       [0],\n",
       "       [0],\n",
       "       [1],\n",
       "       [1],\n",
       "       [1],\n",
       "       [1],\n",
       "       [1],\n",
       "       [1],\n",
       "       [1],\n",
       "       [1],\n",
       "       [1],\n",
       "       [0],\n",
       "       [1],\n",
       "       [1],\n",
       "       [1],\n",
       "       [1],\n",
       "       [1],\n",
       "       [1],\n",
       "       [1],\n",
       "       [1],\n",
       "       [1],\n",
       "       [1],\n",
       "       [1],\n",
       "       [1],\n",
       "       [1],\n",
       "       [1],\n",
       "       [1],\n",
       "       [1],\n",
       "       [0],\n",
       "       [1],\n",
       "       [0],\n",
       "       [0],\n",
       "       [1],\n",
       "       [1],\n",
       "       [0],\n",
       "       [1],\n",
       "       [1],\n",
       "       [1],\n",
       "       [1],\n",
       "       [0],\n",
       "       [0],\n",
       "       [1],\n",
       "       [0],\n",
       "       [0],\n",
       "       [1],\n",
       "       [0],\n",
       "       [1],\n",
       "       [1],\n",
       "       [1],\n",
       "       [1],\n",
       "       [1],\n",
       "       [1],\n",
       "       [1],\n",
       "       [1],\n",
       "       [1],\n",
       "       [0],\n",
       "       [1],\n",
       "       [1],\n",
       "       [0],\n",
       "       [1],\n",
       "       [0],\n",
       "       [1],\n",
       "       [1],\n",
       "       [1],\n",
       "       [1],\n",
       "       [0],\n",
       "       [1],\n",
       "       [1],\n",
       "       [1],\n",
       "       [1],\n",
       "       [0],\n",
       "       [1],\n",
       "       [1],\n",
       "       [1],\n",
       "       [1],\n",
       "       [1],\n",
       "       [1],\n",
       "       [0],\n",
       "       [1],\n",
       "       [1],\n",
       "       [1],\n",
       "       [1],\n",
       "       [0],\n",
       "       [1],\n",
       "       [1],\n",
       "       [1],\n",
       "       [1],\n",
       "       [1],\n",
       "       [1],\n",
       "       [1],\n",
       "       [1],\n",
       "       [1],\n",
       "       [1],\n",
       "       [0],\n",
       "       [0],\n",
       "       [0],\n",
       "       [1],\n",
       "       [1],\n",
       "       [1],\n",
       "       [0],\n",
       "       [0],\n",
       "       [1],\n",
       "       [0],\n",
       "       [1],\n",
       "       [1],\n",
       "       [1],\n",
       "       [1],\n",
       "       [1],\n",
       "       [1],\n",
       "       [1],\n",
       "       [1],\n",
       "       [1],\n",
       "       [1],\n",
       "       [0],\n",
       "       [1],\n",
       "       [1],\n",
       "       [0],\n",
       "       [1],\n",
       "       [0],\n",
       "       [1],\n",
       "       [1],\n",
       "       [1],\n",
       "       [1],\n",
       "       [0],\n",
       "       [1],\n",
       "       [1],\n",
       "       [1],\n",
       "       [1],\n",
       "       [1],\n",
       "       [0],\n",
       "       [1],\n",
       "       [1],\n",
       "       [1],\n",
       "       [1],\n",
       "       [0],\n",
       "       [0],\n",
       "       [1],\n",
       "       [0],\n",
       "       [1],\n",
       "       [1],\n",
       "       [0],\n",
       "       [0],\n",
       "       [0],\n",
       "       [1],\n",
       "       [0],\n",
       "       [0],\n",
       "       [1],\n",
       "       [1],\n",
       "       [0],\n",
       "       [0],\n",
       "       [0],\n",
       "       [1],\n",
       "       [1],\n",
       "       [1],\n",
       "       [1],\n",
       "       [1],\n",
       "       [1],\n",
       "       [1],\n",
       "       [1],\n",
       "       [0],\n",
       "       [1],\n",
       "       [0],\n",
       "       [1],\n",
       "       [1],\n",
       "       [0],\n",
       "       [0],\n",
       "       [0],\n",
       "       [1],\n",
       "       [0],\n",
       "       [0],\n",
       "       [0],\n",
       "       [1],\n",
       "       [0],\n",
       "       [1],\n",
       "       [0],\n",
       "       [1],\n",
       "       [1],\n",
       "       [0],\n",
       "       [1],\n",
       "       [1],\n",
       "       [1],\n",
       "       [1],\n",
       "       [1],\n",
       "       [1],\n",
       "       [1],\n",
       "       [0],\n",
       "       [1],\n",
       "       [0],\n",
       "       [1],\n",
       "       [1],\n",
       "       [1],\n",
       "       [1],\n",
       "       [1],\n",
       "       [0],\n",
       "       [1],\n",
       "       [1],\n",
       "       [1],\n",
       "       [1],\n",
       "       [0],\n",
       "       [1],\n",
       "       [0],\n",
       "       [1],\n",
       "       [1],\n",
       "       [0],\n",
       "       [1],\n",
       "       [0],\n",
       "       [1],\n",
       "       [0],\n",
       "       [1],\n",
       "       [1],\n",
       "       [1],\n",
       "       [0],\n",
       "       [1],\n",
       "       [1],\n",
       "       [1],\n",
       "       [0],\n",
       "       [0],\n",
       "       [0],\n",
       "       [1],\n",
       "       [0],\n",
       "       [1],\n",
       "       [1],\n",
       "       [1],\n",
       "       [1],\n",
       "       [0],\n",
       "       [1],\n",
       "       [0],\n",
       "       [1],\n",
       "       [1],\n",
       "       [1],\n",
       "       [1],\n",
       "       [0],\n",
       "       [0],\n",
       "       [1],\n",
       "       [1],\n",
       "       [0],\n",
       "       [1],\n",
       "       [1],\n",
       "       [1],\n",
       "       [0],\n",
       "       [1],\n",
       "       [1],\n",
       "       [0],\n",
       "       [1],\n",
       "       [0],\n",
       "       [1],\n",
       "       [1],\n",
       "       [1],\n",
       "       [1],\n",
       "       [0],\n",
       "       [0],\n",
       "       [1],\n",
       "       [1],\n",
       "       [1],\n",
       "       [0],\n",
       "       [1],\n",
       "       [1],\n",
       "       [1],\n",
       "       [1],\n",
       "       [0],\n",
       "       [0],\n",
       "       [1],\n",
       "       [1],\n",
       "       [1],\n",
       "       [1],\n",
       "       [1],\n",
       "       [1],\n",
       "       [1],\n",
       "       [0],\n",
       "       [0],\n",
       "       [1],\n",
       "       [1],\n",
       "       [1],\n",
       "       [0],\n",
       "       [1],\n",
       "       [1],\n",
       "       [0],\n",
       "       [0],\n",
       "       [0],\n",
       "       [1],\n",
       "       [1],\n",
       "       [1],\n",
       "       [1],\n",
       "       [1],\n",
       "       [1],\n",
       "       [1],\n",
       "       [1],\n",
       "       [0],\n",
       "       [1],\n",
       "       [1],\n",
       "       [1],\n",
       "       [1],\n",
       "       [0],\n",
       "       [0],\n",
       "       [0],\n",
       "       [1],\n",
       "       [1],\n",
       "       [1],\n",
       "       [1],\n",
       "       [1],\n",
       "       [1],\n",
       "       [1],\n",
       "       [1],\n",
       "       [1],\n",
       "       [1],\n",
       "       [1],\n",
       "       [0],\n",
       "       [1],\n",
       "       [1],\n",
       "       [1],\n",
       "       [1],\n",
       "       [1],\n",
       "       [1],\n",
       "       [1],\n",
       "       [0],\n",
       "       [0],\n",
       "       [1],\n",
       "       [1],\n",
       "       [0],\n",
       "       [1],\n",
       "       [1],\n",
       "       [1],\n",
       "       [0],\n",
       "       [0],\n",
       "       [1],\n",
       "       [1],\n",
       "       [1],\n",
       "       [0],\n",
       "       [1],\n",
       "       [1],\n",
       "       [0],\n",
       "       [1],\n",
       "       [1],\n",
       "       [1],\n",
       "       [0],\n",
       "       [1],\n",
       "       [1],\n",
       "       [1],\n",
       "       [1],\n",
       "       [1],\n",
       "       [1],\n",
       "       [1],\n",
       "       [1]])"
      ]
     },
     "execution_count": 57,
     "metadata": {},
     "output_type": "execute_result"
    }
   ],
   "source": [
    "nn.predict_classes(b1)"
   ]
  },
  {
   "cell_type": "code",
   "execution_count": 58,
   "id": "c540ee9f",
   "metadata": {},
   "outputs": [
    {
     "data": {
      "text/plain": [
       "array(['Y', 'Y', 'Y', 'Y', 'N', 'Y', 'Y', 'N', 'Y', 'Y', 'N', 'Y', 'Y',\n",
       "       'Y', 'Y', 'Y', 'Y', 'Y', 'N', 'Y', 'Y', 'Y', 'Y', 'Y', 'N', 'N',\n",
       "       'Y', 'Y', 'Y', 'Y', 'Y', 'Y', 'Y', 'Y', 'Y', 'N', 'Y', 'Y', 'Y',\n",
       "       'Y', 'Y', 'Y', 'Y', 'Y', 'Y', 'Y', 'Y', 'Y', 'Y', 'Y', 'Y', 'Y',\n",
       "       'N', 'Y', 'N', 'N', 'Y', 'Y', 'N', 'Y', 'Y', 'Y', 'Y', 'N', 'N',\n",
       "       'Y', 'N', 'N', 'Y', 'N', 'Y', 'Y', 'Y', 'Y', 'Y', 'Y', 'Y', 'Y',\n",
       "       'Y', 'N', 'Y', 'Y', 'N', 'Y', 'N', 'Y', 'Y', 'Y', 'Y', 'N', 'Y',\n",
       "       'Y', 'Y', 'Y', 'N', 'Y', 'Y', 'Y', 'Y', 'Y', 'Y', 'N', 'Y', 'Y',\n",
       "       'Y', 'Y', 'N', 'Y', 'Y', 'Y', 'Y', 'Y', 'Y', 'Y', 'Y', 'Y', 'Y',\n",
       "       'N', 'N', 'N', 'Y', 'Y', 'Y', 'N', 'N', 'Y', 'N', 'Y', 'Y', 'Y',\n",
       "       'Y', 'Y', 'Y', 'Y', 'Y', 'Y', 'Y', 'N', 'Y', 'Y', 'N', 'Y', 'N',\n",
       "       'Y', 'Y', 'Y', 'Y', 'N', 'Y', 'Y', 'Y', 'Y', 'Y', 'N', 'Y', 'Y',\n",
       "       'Y', 'Y', 'N', 'N', 'Y', 'N', 'Y', 'Y', 'N', 'N', 'N', 'Y', 'N',\n",
       "       'N', 'Y', 'Y', 'N', 'N', 'N', 'Y', 'Y', 'Y', 'Y', 'Y', 'Y', 'Y',\n",
       "       'Y', 'N', 'Y', 'N', 'Y', 'Y', 'N', 'N', 'N', 'Y', 'N', 'N', 'N',\n",
       "       'Y', 'N', 'Y', 'N', 'Y', 'Y', 'N', 'Y', 'Y', 'Y', 'Y', 'Y', 'Y',\n",
       "       'Y', 'N', 'Y', 'N', 'Y', 'Y', 'Y', 'Y', 'Y', 'N', 'Y', 'Y', 'Y',\n",
       "       'Y', 'N', 'Y', 'N', 'Y', 'Y', 'N', 'Y', 'N', 'Y', 'N', 'Y', 'Y',\n",
       "       'Y', 'N', 'Y', 'Y', 'Y', 'N', 'N', 'N', 'Y', 'N', 'Y', 'Y', 'Y',\n",
       "       'Y', 'N', 'Y', 'N', 'Y', 'Y', 'Y', 'Y', 'N', 'N', 'Y', 'Y', 'N',\n",
       "       'Y', 'Y', 'Y', 'N', 'Y', 'Y', 'N', 'Y', 'N', 'Y', 'Y', 'Y', 'Y',\n",
       "       'N', 'N', 'Y', 'Y', 'Y', 'N', 'Y', 'Y', 'Y', 'Y', 'N', 'N', 'Y',\n",
       "       'Y', 'Y', 'Y', 'Y', 'Y', 'Y', 'N', 'N', 'Y', 'Y', 'Y', 'N', 'Y',\n",
       "       'Y', 'N', 'N', 'N', 'Y', 'Y', 'Y', 'Y', 'Y', 'Y', 'Y', 'Y', 'N',\n",
       "       'Y', 'Y', 'Y', 'Y', 'N', 'N', 'N', 'Y', 'Y', 'Y', 'Y', 'Y', 'Y',\n",
       "       'Y', 'Y', 'Y', 'Y', 'Y', 'N', 'Y', 'Y', 'Y', 'Y', 'Y', 'Y', 'Y',\n",
       "       'N', 'N', 'Y', 'Y', 'N', 'Y', 'Y', 'Y', 'N', 'N', 'Y', 'Y', 'Y',\n",
       "       'N', 'Y', 'Y', 'N', 'Y', 'Y', 'Y', 'N', 'Y', 'Y', 'Y', 'Y', 'Y',\n",
       "       'Y', 'Y', 'Y'], dtype=object)"
      ]
     },
     "execution_count": 58,
     "metadata": {},
     "output_type": "execute_result"
    }
   ],
   "source": [
    "le.inverse_transform(nn.predict_classes(b1))"
   ]
  },
  {
   "cell_type": "code",
   "execution_count": 59,
   "id": "95fc547d",
   "metadata": {},
   "outputs": [],
   "source": [
    "b[\"Predicted_loan_status\"] = le.inverse_transform(nn.predict_classes(b1))"
   ]
  },
  {
   "cell_type": "code",
   "execution_count": 60,
   "id": "0954a3e8",
   "metadata": {},
   "outputs": [
    {
     "data": {
      "text/html": [
       "<div>\n",
       "<style scoped>\n",
       "    .dataframe tbody tr th:only-of-type {\n",
       "        vertical-align: middle;\n",
       "    }\n",
       "\n",
       "    .dataframe tbody tr th {\n",
       "        vertical-align: top;\n",
       "    }\n",
       "\n",
       "    .dataframe thead th {\n",
       "        text-align: right;\n",
       "    }\n",
       "</style>\n",
       "<table border=\"1\" class=\"dataframe\">\n",
       "  <thead>\n",
       "    <tr style=\"text-align: right;\">\n",
       "      <th></th>\n",
       "      <th>Gender</th>\n",
       "      <th>Married</th>\n",
       "      <th>Dependents</th>\n",
       "      <th>Education</th>\n",
       "      <th>Self_Employed</th>\n",
       "      <th>ApplicantIncome</th>\n",
       "      <th>CoapplicantIncome</th>\n",
       "      <th>LoanAmount</th>\n",
       "      <th>Loan_Amount_Term</th>\n",
       "      <th>Credit_History</th>\n",
       "      <th>Property_Area</th>\n",
       "      <th>Predicted_loan_status</th>\n",
       "    </tr>\n",
       "  </thead>\n",
       "  <tbody>\n",
       "    <tr>\n",
       "      <th>0</th>\n",
       "      <td>Male</td>\n",
       "      <td>Yes</td>\n",
       "      <td>0</td>\n",
       "      <td>Graduate</td>\n",
       "      <td>No</td>\n",
       "      <td>5720</td>\n",
       "      <td>0</td>\n",
       "      <td>110.0</td>\n",
       "      <td>360.0</td>\n",
       "      <td>1.000000</td>\n",
       "      <td>Urban</td>\n",
       "      <td>Y</td>\n",
       "    </tr>\n",
       "    <tr>\n",
       "      <th>1</th>\n",
       "      <td>Male</td>\n",
       "      <td>Yes</td>\n",
       "      <td>1</td>\n",
       "      <td>Graduate</td>\n",
       "      <td>No</td>\n",
       "      <td>3076</td>\n",
       "      <td>1500</td>\n",
       "      <td>126.0</td>\n",
       "      <td>360.0</td>\n",
       "      <td>1.000000</td>\n",
       "      <td>Urban</td>\n",
       "      <td>Y</td>\n",
       "    </tr>\n",
       "    <tr>\n",
       "      <th>2</th>\n",
       "      <td>Male</td>\n",
       "      <td>Yes</td>\n",
       "      <td>2</td>\n",
       "      <td>Graduate</td>\n",
       "      <td>No</td>\n",
       "      <td>5000</td>\n",
       "      <td>1800</td>\n",
       "      <td>208.0</td>\n",
       "      <td>360.0</td>\n",
       "      <td>1.000000</td>\n",
       "      <td>Urban</td>\n",
       "      <td>Y</td>\n",
       "    </tr>\n",
       "    <tr>\n",
       "      <th>3</th>\n",
       "      <td>Male</td>\n",
       "      <td>Yes</td>\n",
       "      <td>2</td>\n",
       "      <td>Graduate</td>\n",
       "      <td>No</td>\n",
       "      <td>2340</td>\n",
       "      <td>2546</td>\n",
       "      <td>100.0</td>\n",
       "      <td>360.0</td>\n",
       "      <td>0.825444</td>\n",
       "      <td>Urban</td>\n",
       "      <td>Y</td>\n",
       "    </tr>\n",
       "    <tr>\n",
       "      <th>4</th>\n",
       "      <td>Male</td>\n",
       "      <td>No</td>\n",
       "      <td>0</td>\n",
       "      <td>Not Graduate</td>\n",
       "      <td>No</td>\n",
       "      <td>3276</td>\n",
       "      <td>0</td>\n",
       "      <td>78.0</td>\n",
       "      <td>360.0</td>\n",
       "      <td>1.000000</td>\n",
       "      <td>Urban</td>\n",
       "      <td>N</td>\n",
       "    </tr>\n",
       "    <tr>\n",
       "      <th>...</th>\n",
       "      <td>...</td>\n",
       "      <td>...</td>\n",
       "      <td>...</td>\n",
       "      <td>...</td>\n",
       "      <td>...</td>\n",
       "      <td>...</td>\n",
       "      <td>...</td>\n",
       "      <td>...</td>\n",
       "      <td>...</td>\n",
       "      <td>...</td>\n",
       "      <td>...</td>\n",
       "      <td>...</td>\n",
       "    </tr>\n",
       "    <tr>\n",
       "      <th>362</th>\n",
       "      <td>Male</td>\n",
       "      <td>Yes</td>\n",
       "      <td>3+</td>\n",
       "      <td>Not Graduate</td>\n",
       "      <td>Yes</td>\n",
       "      <td>4009</td>\n",
       "      <td>1777</td>\n",
       "      <td>113.0</td>\n",
       "      <td>360.0</td>\n",
       "      <td>1.000000</td>\n",
       "      <td>Urban</td>\n",
       "      <td>Y</td>\n",
       "    </tr>\n",
       "    <tr>\n",
       "      <th>363</th>\n",
       "      <td>Male</td>\n",
       "      <td>Yes</td>\n",
       "      <td>0</td>\n",
       "      <td>Graduate</td>\n",
       "      <td>No</td>\n",
       "      <td>4158</td>\n",
       "      <td>709</td>\n",
       "      <td>115.0</td>\n",
       "      <td>360.0</td>\n",
       "      <td>1.000000</td>\n",
       "      <td>Urban</td>\n",
       "      <td>Y</td>\n",
       "    </tr>\n",
       "    <tr>\n",
       "      <th>364</th>\n",
       "      <td>Male</td>\n",
       "      <td>No</td>\n",
       "      <td>0</td>\n",
       "      <td>Graduate</td>\n",
       "      <td>No</td>\n",
       "      <td>3250</td>\n",
       "      <td>1993</td>\n",
       "      <td>126.0</td>\n",
       "      <td>360.0</td>\n",
       "      <td>0.825444</td>\n",
       "      <td>Semiurban</td>\n",
       "      <td>Y</td>\n",
       "    </tr>\n",
       "    <tr>\n",
       "      <th>365</th>\n",
       "      <td>Male</td>\n",
       "      <td>Yes</td>\n",
       "      <td>0</td>\n",
       "      <td>Graduate</td>\n",
       "      <td>No</td>\n",
       "      <td>5000</td>\n",
       "      <td>2393</td>\n",
       "      <td>158.0</td>\n",
       "      <td>360.0</td>\n",
       "      <td>1.000000</td>\n",
       "      <td>Rural</td>\n",
       "      <td>Y</td>\n",
       "    </tr>\n",
       "    <tr>\n",
       "      <th>366</th>\n",
       "      <td>Male</td>\n",
       "      <td>No</td>\n",
       "      <td>0</td>\n",
       "      <td>Graduate</td>\n",
       "      <td>Yes</td>\n",
       "      <td>9200</td>\n",
       "      <td>0</td>\n",
       "      <td>98.0</td>\n",
       "      <td>180.0</td>\n",
       "      <td>1.000000</td>\n",
       "      <td>Rural</td>\n",
       "      <td>Y</td>\n",
       "    </tr>\n",
       "  </tbody>\n",
       "</table>\n",
       "<p>367 rows × 12 columns</p>\n",
       "</div>"
      ],
      "text/plain": [
       "    Gender Married Dependents     Education Self_Employed  ApplicantIncome  \\\n",
       "0     Male     Yes          0      Graduate            No             5720   \n",
       "1     Male     Yes          1      Graduate            No             3076   \n",
       "2     Male     Yes          2      Graduate            No             5000   \n",
       "3     Male     Yes          2      Graduate            No             2340   \n",
       "4     Male      No          0  Not Graduate            No             3276   \n",
       "..     ...     ...        ...           ...           ...              ...   \n",
       "362   Male     Yes         3+  Not Graduate           Yes             4009   \n",
       "363   Male     Yes          0      Graduate            No             4158   \n",
       "364   Male      No          0      Graduate            No             3250   \n",
       "365   Male     Yes          0      Graduate            No             5000   \n",
       "366   Male      No          0      Graduate           Yes             9200   \n",
       "\n",
       "     CoapplicantIncome  LoanAmount  Loan_Amount_Term  Credit_History  \\\n",
       "0                    0       110.0             360.0        1.000000   \n",
       "1                 1500       126.0             360.0        1.000000   \n",
       "2                 1800       208.0             360.0        1.000000   \n",
       "3                 2546       100.0             360.0        0.825444   \n",
       "4                    0        78.0             360.0        1.000000   \n",
       "..                 ...         ...               ...             ...   \n",
       "362               1777       113.0             360.0        1.000000   \n",
       "363                709       115.0             360.0        1.000000   \n",
       "364               1993       126.0             360.0        0.825444   \n",
       "365               2393       158.0             360.0        1.000000   \n",
       "366                  0        98.0             180.0        1.000000   \n",
       "\n",
       "    Property_Area Predicted_loan_status  \n",
       "0           Urban                     Y  \n",
       "1           Urban                     Y  \n",
       "2           Urban                     Y  \n",
       "3           Urban                     Y  \n",
       "4           Urban                     N  \n",
       "..            ...                   ...  \n",
       "362         Urban                     Y  \n",
       "363         Urban                     Y  \n",
       "364     Semiurban                     Y  \n",
       "365         Rural                     Y  \n",
       "366         Rural                     Y  \n",
       "\n",
       "[367 rows x 12 columns]"
      ]
     },
     "execution_count": 60,
     "metadata": {},
     "output_type": "execute_result"
    }
   ],
   "source": [
    "b"
   ]
  },
  {
   "cell_type": "markdown",
   "id": "39991e26",
   "metadata": {},
   "source": [
    "# Problem Statement 2: Loan Amount Prediction"
   ]
  },
  {
   "cell_type": "code",
   "execution_count": 62,
   "id": "6a7c4024",
   "metadata": {},
   "outputs": [],
   "source": [
    "# data preparation\n",
    "\n",
    "a1 = a[a['Loan_Status']=='Y']\n",
    "a1 = a1.drop(labels=['Loan_ID'],axis=1)"
   ]
  },
  {
   "cell_type": "code",
   "execution_count": 63,
   "id": "e44693fc",
   "metadata": {},
   "outputs": [],
   "source": [
    "a2 = b[b['Predicted_loan_status']=='Y']"
   ]
  },
  {
   "cell_type": "code",
   "execution_count": 64,
   "id": "c3799c4b",
   "metadata": {},
   "outputs": [
    {
     "data": {
      "text/plain": [
       "(422, 12)"
      ]
     },
     "execution_count": 64,
     "metadata": {},
     "output_type": "execute_result"
    }
   ],
   "source": [
    "a1.shape"
   ]
  },
  {
   "cell_type": "code",
   "execution_count": 65,
   "id": "319b918c",
   "metadata": {},
   "outputs": [
    {
     "data": {
      "text/plain": [
       "(266, 12)"
      ]
     },
     "execution_count": 65,
     "metadata": {},
     "output_type": "execute_result"
    }
   ],
   "source": [
    "a2.shape"
   ]
  },
  {
   "cell_type": "code",
   "execution_count": 66,
   "id": "5604cc1e",
   "metadata": {},
   "outputs": [],
   "source": [
    "a1.columns = a2.columns"
   ]
  },
  {
   "cell_type": "code",
   "execution_count": 67,
   "id": "041698ea",
   "metadata": {},
   "outputs": [],
   "source": [
    "c = pd.concat([a1,a2])"
   ]
  },
  {
   "cell_type": "code",
   "execution_count": 68,
   "id": "c2cee3d8",
   "metadata": {},
   "outputs": [
    {
     "data": {
      "text/plain": [
       "Gender                   0\n",
       "Married                  0\n",
       "Dependents               0\n",
       "Education                0\n",
       "Self_Employed            0\n",
       "ApplicantIncome          0\n",
       "CoapplicantIncome        0\n",
       "LoanAmount               0\n",
       "Loan_Amount_Term         0\n",
       "Credit_History           0\n",
       "Property_Area            0\n",
       "Predicted_loan_status    0\n",
       "dtype: int64"
      ]
     },
     "execution_count": 68,
     "metadata": {},
     "output_type": "execute_result"
    }
   ],
   "source": [
    "c.isna().sum()"
   ]
  },
  {
   "cell_type": "code",
   "execution_count": 72,
   "id": "9329cc19",
   "metadata": {},
   "outputs": [
    {
     "name": "stdout",
     "output_type": "stream",
     "text": [
      "(688, 12)\n"
     ]
    },
    {
     "data": {
      "text/html": [
       "<div>\n",
       "<style scoped>\n",
       "    .dataframe tbody tr th:only-of-type {\n",
       "        vertical-align: middle;\n",
       "    }\n",
       "\n",
       "    .dataframe tbody tr th {\n",
       "        vertical-align: top;\n",
       "    }\n",
       "\n",
       "    .dataframe thead th {\n",
       "        text-align: right;\n",
       "    }\n",
       "</style>\n",
       "<table border=\"1\" class=\"dataframe\">\n",
       "  <thead>\n",
       "    <tr style=\"text-align: right;\">\n",
       "      <th></th>\n",
       "      <th>Gender</th>\n",
       "      <th>Married</th>\n",
       "      <th>Dependents</th>\n",
       "      <th>Education</th>\n",
       "      <th>Self_Employed</th>\n",
       "      <th>ApplicantIncome</th>\n",
       "      <th>CoapplicantIncome</th>\n",
       "      <th>LoanAmount</th>\n",
       "      <th>Loan_Amount_Term</th>\n",
       "      <th>Credit_History</th>\n",
       "      <th>Property_Area</th>\n",
       "      <th>Predicted_loan_status</th>\n",
       "    </tr>\n",
       "  </thead>\n",
       "  <tbody>\n",
       "    <tr>\n",
       "      <th>0</th>\n",
       "      <td>Male</td>\n",
       "      <td>No</td>\n",
       "      <td>0</td>\n",
       "      <td>Graduate</td>\n",
       "      <td>No</td>\n",
       "      <td>5849.0</td>\n",
       "      <td>0.0</td>\n",
       "      <td>146.412162</td>\n",
       "      <td>360.0</td>\n",
       "      <td>1.0</td>\n",
       "      <td>Urban</td>\n",
       "      <td>Y</td>\n",
       "    </tr>\n",
       "    <tr>\n",
       "      <th>1</th>\n",
       "      <td>Male</td>\n",
       "      <td>Yes</td>\n",
       "      <td>0</td>\n",
       "      <td>Graduate</td>\n",
       "      <td>Yes</td>\n",
       "      <td>3000.0</td>\n",
       "      <td>0.0</td>\n",
       "      <td>66.000000</td>\n",
       "      <td>360.0</td>\n",
       "      <td>1.0</td>\n",
       "      <td>Urban</td>\n",
       "      <td>Y</td>\n",
       "    </tr>\n",
       "    <tr>\n",
       "      <th>2</th>\n",
       "      <td>Male</td>\n",
       "      <td>Yes</td>\n",
       "      <td>0</td>\n",
       "      <td>Not Graduate</td>\n",
       "      <td>No</td>\n",
       "      <td>2583.0</td>\n",
       "      <td>2358.0</td>\n",
       "      <td>120.000000</td>\n",
       "      <td>360.0</td>\n",
       "      <td>1.0</td>\n",
       "      <td>Urban</td>\n",
       "      <td>Y</td>\n",
       "    </tr>\n",
       "    <tr>\n",
       "      <th>3</th>\n",
       "      <td>Male</td>\n",
       "      <td>No</td>\n",
       "      <td>0</td>\n",
       "      <td>Graduate</td>\n",
       "      <td>No</td>\n",
       "      <td>6000.0</td>\n",
       "      <td>0.0</td>\n",
       "      <td>141.000000</td>\n",
       "      <td>360.0</td>\n",
       "      <td>1.0</td>\n",
       "      <td>Urban</td>\n",
       "      <td>Y</td>\n",
       "    </tr>\n",
       "    <tr>\n",
       "      <th>4</th>\n",
       "      <td>Male</td>\n",
       "      <td>Yes</td>\n",
       "      <td>2</td>\n",
       "      <td>Graduate</td>\n",
       "      <td>Yes</td>\n",
       "      <td>5417.0</td>\n",
       "      <td>4196.0</td>\n",
       "      <td>267.000000</td>\n",
       "      <td>360.0</td>\n",
       "      <td>1.0</td>\n",
       "      <td>Urban</td>\n",
       "      <td>Y</td>\n",
       "    </tr>\n",
       "  </tbody>\n",
       "</table>\n",
       "</div>"
      ],
      "text/plain": [
       "  Gender Married Dependents     Education Self_Employed  ApplicantIncome  \\\n",
       "0   Male      No          0      Graduate            No           5849.0   \n",
       "1   Male     Yes          0      Graduate           Yes           3000.0   \n",
       "2   Male     Yes          0  Not Graduate            No           2583.0   \n",
       "3   Male      No          0      Graduate            No           6000.0   \n",
       "4   Male     Yes          2      Graduate           Yes           5417.0   \n",
       "\n",
       "   CoapplicantIncome  LoanAmount  Loan_Amount_Term  Credit_History  \\\n",
       "0                0.0  146.412162             360.0             1.0   \n",
       "1                0.0   66.000000             360.0             1.0   \n",
       "2             2358.0  120.000000             360.0             1.0   \n",
       "3                0.0  141.000000             360.0             1.0   \n",
       "4             4196.0  267.000000             360.0             1.0   \n",
       "\n",
       "  Property_Area Predicted_loan_status  \n",
       "0         Urban                     Y  \n",
       "1         Urban                     Y  \n",
       "2         Urban                     Y  \n",
       "3         Urban                     Y  \n",
       "4         Urban                     Y  "
      ]
     },
     "execution_count": 72,
     "metadata": {},
     "output_type": "execute_result"
    }
   ],
   "source": [
    "print(c.shape)\n",
    "c.index = range(0,688,1)\n",
    "c.head()\n"
   ]
  },
  {
   "cell_type": "markdown",
   "id": "da0d4d6c",
   "metadata": {},
   "source": [
    "# Preprocessing"
   ]
  },
  {
   "cell_type": "code",
   "execution_count": 73,
   "id": "e3040c64",
   "metadata": {},
   "outputs": [],
   "source": [
    "y = c[['LoanAmount']]\n",
    "x = c.drop(labels=['LoanAmount'],axis=1)"
   ]
  },
  {
   "cell_type": "code",
   "execution_count": 74,
   "id": "4403e765",
   "metadata": {},
   "outputs": [],
   "source": [
    "replacer(y)\n",
    "replacer(x)"
   ]
  },
  {
   "cell_type": "code",
   "execution_count": 75,
   "id": "d86cf0f2",
   "metadata": {},
   "outputs": [],
   "source": [
    "x1 = preprocessing(x)"
   ]
  },
  {
   "cell_type": "code",
   "execution_count": 76,
   "id": "0ac1ab3e",
   "metadata": {},
   "outputs": [
    {
     "data": {
      "text/plain": [
       "ApplicantIncome            0\n",
       "CoapplicantIncome          0\n",
       "Loan_Amount_Term           0\n",
       "Credit_History             0\n",
       "Gender_Female              0\n",
       "Gender_Male                0\n",
       "Married_No                 0\n",
       "Married_Yes                0\n",
       "Dependents_0               0\n",
       "Dependents_1               0\n",
       "Dependents_2               0\n",
       "Dependents_3+              0\n",
       "Education_Graduate         0\n",
       "Education_Not Graduate     0\n",
       "Self_Employed_No           0\n",
       "Self_Employed_Yes          0\n",
       "Property_Area_Rural        0\n",
       "Property_Area_Semiurban    0\n",
       "Property_Area_Urban        0\n",
       "Predicted_loan_status_Y    0\n",
       "dtype: int64"
      ]
     },
     "execution_count": 76,
     "metadata": {},
     "output_type": "execute_result"
    }
   ],
   "source": [
    "x1.isna().sum()"
   ]
  },
  {
   "cell_type": "markdown",
   "id": "af179173",
   "metadata": {},
   "source": [
    "# Create NN"
   ]
  },
  {
   "cell_type": "code",
   "execution_count": 78,
   "id": "9f1b4b99",
   "metadata": {},
   "outputs": [],
   "source": [
    "from tensorflow.keras.losses import mae, mean_squared_error, mean_absolute_error"
   ]
  },
  {
   "cell_type": "code",
   "execution_count": 82,
   "id": "629de18a",
   "metadata": {},
   "outputs": [
    {
     "name": "stdout",
     "output_type": "stream",
     "text": [
      "Epoch 1/50\n",
      "18/18 [==============================] - 0s 13ms/step - loss: 26945.8945 - val_loss: 18739.0664\n",
      "Epoch 2/50\n",
      "18/18 [==============================] - 0s 3ms/step - loss: 26558.3711 - val_loss: 18359.8184\n",
      "Epoch 3/50\n",
      "18/18 [==============================] - 0s 3ms/step - loss: 26044.3477 - val_loss: 17819.0977\n",
      "Epoch 4/50\n",
      "18/18 [==============================] - 0s 3ms/step - loss: 25322.7461 - val_loss: 17051.6055\n",
      "Epoch 5/50\n",
      "18/18 [==============================] - 0s 3ms/step - loss: 24333.8789 - val_loss: 16044.9062\n",
      "Epoch 6/50\n",
      "18/18 [==============================] - 0s 3ms/step - loss: 23041.2637 - val_loss: 14769.8574\n",
      "Epoch 7/50\n",
      "18/18 [==============================] - 0s 3ms/step - loss: 21448.1621 - val_loss: 13202.9180\n",
      "Epoch 8/50\n",
      "18/18 [==============================] - 0s 3ms/step - loss: 19551.5527 - val_loss: 11491.5977\n",
      "Epoch 9/50\n",
      "18/18 [==============================] - 0s 3ms/step - loss: 17455.0801 - val_loss: 9577.7832\n",
      "Epoch 10/50\n",
      "18/18 [==============================] - 0s 3ms/step - loss: 15136.3623 - val_loss: 7569.5820\n",
      "Epoch 11/50\n",
      "18/18 [==============================] - 0s 3ms/step - loss: 12838.0869 - val_loss: 5819.9854\n",
      "Epoch 12/50\n",
      "18/18 [==============================] - 0s 3ms/step - loss: 10712.3096 - val_loss: 4220.1084\n",
      "Epoch 13/50\n",
      "18/18 [==============================] - 0s 3ms/step - loss: 8721.5107 - val_loss: 2943.6396\n",
      "Epoch 14/50\n",
      "18/18 [==============================] - 0s 3ms/step - loss: 7220.1284 - val_loss: 2231.7500\n",
      "Epoch 15/50\n",
      "18/18 [==============================] - 0s 3ms/step - loss: 6217.4355 - val_loss: 2020.4008\n",
      "Epoch 16/50\n",
      "18/18 [==============================] - 0s 3ms/step - loss: 5770.1357 - val_loss: 2000.7670\n",
      "Epoch 17/50\n",
      "18/18 [==============================] - 0s 3ms/step - loss: 5528.9731 - val_loss: 2076.5122\n",
      "Epoch 18/50\n",
      "18/18 [==============================] - 0s 2ms/step - loss: 5369.1968 - val_loss: 2138.9143\n",
      "Epoch 19/50\n",
      "18/18 [==============================] - 0s 2ms/step - loss: 5229.8838 - val_loss: 2078.0962\n",
      "Epoch 20/50\n",
      "18/18 [==============================] - 0s 2ms/step - loss: 5118.4092 - val_loss: 2121.3875\n",
      "Epoch 21/50\n",
      "18/18 [==============================] - 0s 2ms/step - loss: 4998.7773 - val_loss: 2085.1426\n",
      "Epoch 22/50\n",
      "18/18 [==============================] - 0s 2ms/step - loss: 4894.0264 - val_loss: 1949.1746\n",
      "Epoch 23/50\n",
      "18/18 [==============================] - 0s 3ms/step - loss: 4811.7402 - val_loss: 1954.0477\n",
      "Epoch 24/50\n",
      "18/18 [==============================] - 0s 2ms/step - loss: 4702.9062 - val_loss: 1968.2738\n",
      "Epoch 25/50\n",
      "18/18 [==============================] - 0s 2ms/step - loss: 4607.0879 - val_loss: 1999.3514\n",
      "Epoch 26/50\n",
      "18/18 [==============================] - 0s 2ms/step - loss: 4520.7012 - val_loss: 2002.1538\n",
      "Epoch 27/50\n",
      "18/18 [==============================] - 0s 2ms/step - loss: 4440.9634 - val_loss: 1922.4701\n",
      "Epoch 28/50\n",
      "18/18 [==============================] - 0s 2ms/step - loss: 4366.0410 - val_loss: 2014.0831\n",
      "Epoch 29/50\n",
      "18/18 [==============================] - 0s 2ms/step - loss: 4283.9263 - val_loss: 1972.7855\n",
      "Epoch 30/50\n",
      "18/18 [==============================] - 0s 2ms/step - loss: 4232.9570 - val_loss: 2081.7388\n",
      "Epoch 31/50\n",
      "18/18 [==============================] - 0s 2ms/step - loss: 4155.1523 - val_loss: 2139.2983\n",
      "Epoch 32/50\n",
      "18/18 [==============================] - 0s 2ms/step - loss: 4104.4336 - val_loss: 1998.5013\n",
      "Epoch 33/50\n",
      "18/18 [==============================] - 0s 2ms/step - loss: 4066.1750 - val_loss: 2053.6013\n",
      "Epoch 34/50\n",
      "18/18 [==============================] - 0s 2ms/step - loss: 4019.9526 - val_loss: 2124.7783\n",
      "Epoch 35/50\n",
      "18/18 [==============================] - 0s 2ms/step - loss: 3974.9878 - val_loss: 2187.4033\n",
      "Epoch 36/50\n",
      "18/18 [==============================] - 0s 2ms/step - loss: 3938.4255 - val_loss: 2116.9614\n",
      "Epoch 37/50\n",
      "18/18 [==============================] - 0s 2ms/step - loss: 3904.3577 - val_loss: 2287.5422\n",
      "Epoch 38/50\n",
      "18/18 [==============================] - 0s 2ms/step - loss: 3889.0845 - val_loss: 2174.8047\n",
      "Epoch 39/50\n",
      "18/18 [==============================] - 0s 2ms/step - loss: 3863.6887 - val_loss: 2300.8467\n",
      "Epoch 40/50\n",
      "18/18 [==============================] - 0s 2ms/step - loss: 3854.7278 - val_loss: 2358.3569\n",
      "Epoch 41/50\n",
      "18/18 [==============================] - 0s 2ms/step - loss: 3831.9990 - val_loss: 2213.4304\n",
      "Epoch 42/50\n",
      "18/18 [==============================] - 0s 2ms/step - loss: 3818.6750 - val_loss: 2146.4966\n",
      "Epoch 43/50\n",
      "18/18 [==============================] - 0s 2ms/step - loss: 3798.0210 - val_loss: 2276.8462\n",
      "Epoch 44/50\n",
      "18/18 [==============================] - 0s 2ms/step - loss: 3785.1597 - val_loss: 2171.9062\n",
      "Epoch 45/50\n",
      "18/18 [==============================] - 0s 2ms/step - loss: 3778.2480 - val_loss: 2187.4841\n",
      "Epoch 46/50\n",
      "18/18 [==============================] - 0s 2ms/step - loss: 3753.7070 - val_loss: 2287.6414\n",
      "Epoch 47/50\n",
      "18/18 [==============================] - 0s 2ms/step - loss: 3748.2847 - val_loss: 2189.0906\n",
      "Epoch 48/50\n",
      "18/18 [==============================] - 0s 2ms/step - loss: 3751.9238 - val_loss: 2221.6492\n",
      "Epoch 49/50\n",
      "18/18 [==============================] - 0s 2ms/step - loss: 3740.2317 - val_loss: 2220.9077\n",
      "Epoch 50/50\n",
      "18/18 [==============================] - 0s 2ms/step - loss: 3731.8123 - val_loss: 2223.2217\n"
     ]
    },
    {
     "data": {
      "text/plain": [
       "<tensorflow.python.keras.callbacks.History at 0x295b35250d0>"
      ]
     },
     "execution_count": 82,
     "metadata": {},
     "output_type": "execute_result"
    }
   ],
   "source": [
    "nn1 = Sequential()\n",
    "nn1.add(Dense(32,activation = 'relu', input_dim = x1.shape[1]))\n",
    "nn1.add(Dense(32,activation = 'relu'))\n",
    "nn1.add(Dense(1))\n",
    "\n",
    "nn1.compile(loss = 'mean_squared_error')\n",
    "nn1.fit(x1, y, validation_split=0.2, epochs=50)"
   ]
  },
  {
   "cell_type": "code",
   "execution_count": 225,
   "id": "0f49ab53",
   "metadata": {},
   "outputs": [],
   "source": [
    "# keras tuner\n",
    "\n",
    "def model_builder(hp):\n",
    "    nn = Sequential()\n",
    "    nn.add(Dense(32, activation = 'relu', input_dim = x1.shape[1]))\n",
    "    x = hp.Int('units', min_value = 32, max_value = 512, step= 32)\n",
    "    nn.add(Dense(units=x))\n",
    "    lr = hp.Choice('rate', values=[0.1,0.2,0.3,0.4,0.5,0.6,0.7,0.8,0.9])\n",
    "    nn.add(Dropout(rate = lr))\n",
    "    nn.add(Dense(1,activation='relu'))\n",
    "    nn.compile(loss='mean_squared_error')\n",
    "    return nn"
   ]
  },
  {
   "cell_type": "code",
   "execution_count": 226,
   "id": "a27f6b29",
   "metadata": {},
   "outputs": [
    {
     "name": "stdout",
     "output_type": "stream",
     "text": [
      "INFO:tensorflow:Reloading Oracle from existing project C:/Users/Lenovo/Downloads/kt6\\loan_status_2\\oracle.json\n"
     ]
    }
   ],
   "source": [
    "tuner = kt.Hyperband(model_builder, objective='val_loss', max_epochs=10,\n",
    "                    directory= 'C:/Users/Lenovo/Downloads/kt6',\n",
    "                     project_name = 'loan_status_2')"
   ]
  },
  {
   "cell_type": "code",
   "execution_count": 227,
   "id": "966f1a1b",
   "metadata": {},
   "outputs": [
    {
     "name": "stdout",
     "output_type": "stream",
     "text": [
      "Trial 30 Complete [00h 00m 01s]\n",
      "val_loss: 2209.460205078125\n",
      "\n",
      "Best val_loss So Far: 1964.0677490234375\n",
      "Total elapsed time: 00h 00m 44s\n",
      "INFO:tensorflow:Oracle triggered exit\n"
     ]
    }
   ],
   "source": [
    "tuner.search(x1, y, validation_split = 0.2, epochs= 50)"
   ]
  },
  {
   "cell_type": "code",
   "execution_count": 228,
   "id": "e7f52813",
   "metadata": {},
   "outputs": [
    {
     "data": {
      "text/plain": [
       "448"
      ]
     },
     "execution_count": 228,
     "metadata": {},
     "output_type": "execute_result"
    }
   ],
   "source": [
    "tuner.get_best_hyperparameters(num_trials= 1)[0].get('units')"
   ]
  },
  {
   "cell_type": "code",
   "execution_count": 229,
   "id": "9bca7f4f",
   "metadata": {},
   "outputs": [
    {
     "data": {
      "text/plain": [
       "0.5"
      ]
     },
     "execution_count": 229,
     "metadata": {},
     "output_type": "execute_result"
    }
   ],
   "source": [
    "tuner.get_best_hyperparameters()[0].get('rate')"
   ]
  },
  {
   "cell_type": "code",
   "execution_count": null,
   "id": "daa05001",
   "metadata": {},
   "outputs": [],
   "source": []
  },
  {
   "cell_type": "code",
   "execution_count": 230,
   "id": "b81129a2",
   "metadata": {},
   "outputs": [
    {
     "name": "stdout",
     "output_type": "stream",
     "text": [
      "Epoch 1/50\n",
      "18/18 [==============================] - 0s 15ms/step - loss: 26175.2695 - val_loss: 17088.3730\n",
      "Epoch 2/50\n",
      "18/18 [==============================] - 0s 3ms/step - loss: 23340.2461 - val_loss: 13979.4424\n",
      "Epoch 3/50\n",
      "18/18 [==============================] - 0s 3ms/step - loss: 19136.2754 - val_loss: 9795.3721\n",
      "Epoch 4/50\n",
      "18/18 [==============================] - 0s 3ms/step - loss: 13732.1992 - val_loss: 5477.2383\n",
      "Epoch 5/50\n",
      "18/18 [==============================] - 0s 3ms/step - loss: 9060.6719 - val_loss: 2980.2878\n",
      "Epoch 6/50\n",
      "18/18 [==============================] - 0s 4ms/step - loss: 6515.1484 - val_loss: 2429.3247\n",
      "Epoch 7/50\n",
      "18/18 [==============================] - 0s 4ms/step - loss: 5768.0630 - val_loss: 2400.7266\n",
      "Epoch 8/50\n",
      "18/18 [==============================] - 0s 4ms/step - loss: 5351.7974 - val_loss: 2285.8438\n",
      "Epoch 9/50\n",
      "18/18 [==============================] - 0s 4ms/step - loss: 5253.0420 - val_loss: 2232.6172\n",
      "Epoch 10/50\n",
      "18/18 [==============================] - 0s 4ms/step - loss: 4830.9697 - val_loss: 2256.4460\n",
      "Epoch 11/50\n",
      "18/18 [==============================] - 0s 3ms/step - loss: 4817.2837 - val_loss: 2174.6553\n",
      "Epoch 12/50\n",
      "18/18 [==============================] - 0s 3ms/step - loss: 4607.2051 - val_loss: 2233.8557\n",
      "Epoch 13/50\n",
      "18/18 [==============================] - 0s 3ms/step - loss: 4536.9233 - val_loss: 2215.0527\n",
      "Epoch 14/50\n",
      "18/18 [==============================] - 0s 3ms/step - loss: 4404.5435 - val_loss: 2092.2188\n",
      "Epoch 15/50\n",
      "18/18 [==============================] - 0s 3ms/step - loss: 4157.3999 - val_loss: 2241.6577\n",
      "Epoch 16/50\n",
      "18/18 [==============================] - 0s 3ms/step - loss: 4258.9805 - val_loss: 2044.0662\n",
      "Epoch 17/50\n",
      "18/18 [==============================] - 0s 3ms/step - loss: 4141.6343 - val_loss: 2169.6985\n",
      "Epoch 18/50\n",
      "18/18 [==============================] - 0s 3ms/step - loss: 4022.7158 - val_loss: 2282.2454\n",
      "Epoch 19/50\n",
      "18/18 [==============================] - 0s 3ms/step - loss: 4084.3787 - val_loss: 2239.2646\n",
      "Epoch 20/50\n",
      "18/18 [==============================] - 0s 3ms/step - loss: 4001.4045 - val_loss: 2227.8042\n",
      "Epoch 21/50\n",
      "18/18 [==============================] - 0s 3ms/step - loss: 3954.1868 - val_loss: 2253.4641\n",
      "Epoch 22/50\n",
      "18/18 [==============================] - 0s 3ms/step - loss: 3991.6846 - val_loss: 2197.1409\n",
      "Epoch 23/50\n",
      "18/18 [==============================] - 0s 3ms/step - loss: 4018.9504 - val_loss: 2192.0266\n",
      "Epoch 24/50\n",
      "18/18 [==============================] - 0s 4ms/step - loss: 3806.4924 - val_loss: 2317.5986\n",
      "Epoch 25/50\n",
      "18/18 [==============================] - 0s 4ms/step - loss: 3721.4480 - val_loss: 2261.9507\n",
      "Epoch 26/50\n",
      "18/18 [==============================] - 0s 4ms/step - loss: 4097.2803 - val_loss: 2258.5125\n",
      "Epoch 27/50\n",
      "18/18 [==============================] - 0s 4ms/step - loss: 3830.6873 - val_loss: 2202.6160\n",
      "Epoch 28/50\n",
      "18/18 [==============================] - 0s 4ms/step - loss: 3690.1072 - val_loss: 2381.3894\n",
      "Epoch 29/50\n",
      "18/18 [==============================] - 0s 4ms/step - loss: 3843.5142 - val_loss: 2492.4192\n",
      "Epoch 30/50\n",
      "18/18 [==============================] - 0s 4ms/step - loss: 3908.5723 - val_loss: 2344.9597\n",
      "Epoch 31/50\n",
      "18/18 [==============================] - 0s 4ms/step - loss: 3661.4331 - val_loss: 2472.2629\n",
      "Epoch 32/50\n",
      "18/18 [==============================] - 0s 4ms/step - loss: 3848.0574 - val_loss: 2469.2676\n",
      "Epoch 33/50\n",
      "18/18 [==============================] - 0s 4ms/step - loss: 3799.3293 - val_loss: 2449.5571\n",
      "Epoch 34/50\n",
      "18/18 [==============================] - 0s 3ms/step - loss: 3713.7610 - val_loss: 2482.4341\n",
      "Epoch 35/50\n",
      "18/18 [==============================] - 0s 3ms/step - loss: 3859.9392 - val_loss: 2552.8872\n",
      "Epoch 36/50\n",
      "18/18 [==============================] - 0s 4ms/step - loss: 3539.2046 - val_loss: 2429.4419\n",
      "Epoch 37/50\n",
      "18/18 [==============================] - 0s 4ms/step - loss: 3823.3000 - val_loss: 2324.7590\n",
      "Epoch 38/50\n",
      "18/18 [==============================] - 0s 4ms/step - loss: 3860.6150 - val_loss: 2453.9778\n",
      "Epoch 39/50\n",
      "18/18 [==============================] - 0s 4ms/step - loss: 3856.0300 - val_loss: 2390.2542\n",
      "Epoch 40/50\n",
      "18/18 [==============================] - 0s 4ms/step - loss: 3567.9124 - val_loss: 2470.8428\n",
      "Epoch 41/50\n",
      "18/18 [==============================] - 0s 3ms/step - loss: 3952.1213 - val_loss: 2556.0063\n",
      "Epoch 42/50\n",
      "18/18 [==============================] - 0s 3ms/step - loss: 3833.2922 - val_loss: 2418.1260\n",
      "Epoch 43/50\n",
      "18/18 [==============================] - 0s 4ms/step - loss: 3789.6941 - val_loss: 2549.1006\n",
      "Epoch 44/50\n",
      "18/18 [==============================] - 0s 5ms/step - loss: 3994.7849 - val_loss: 2377.8748\n",
      "Epoch 45/50\n",
      "18/18 [==============================] - 0s 5ms/step - loss: 3654.0317 - val_loss: 2419.0266\n",
      "Epoch 46/50\n",
      "18/18 [==============================] - 0s 5ms/step - loss: 3637.6929 - val_loss: 2399.3464\n",
      "Epoch 47/50\n",
      "18/18 [==============================] - 0s 4ms/step - loss: 3605.7307 - val_loss: 2624.8350\n",
      "Epoch 48/50\n",
      "18/18 [==============================] - 0s 5ms/step - loss: 3597.4885 - val_loss: 2444.9780\n",
      "Epoch 49/50\n",
      "18/18 [==============================] - 0s 5ms/step - loss: 3822.3887 - val_loss: 2611.3462\n",
      "Epoch 50/50\n",
      "18/18 [==============================] - 0s 3ms/step - loss: 3643.4187 - val_loss: 2505.3174\n"
     ]
    },
    {
     "data": {
      "text/plain": [
       "<tensorflow.python.keras.callbacks.History at 0x295af171490>"
      ]
     },
     "execution_count": 230,
     "metadata": {},
     "output_type": "execute_result"
    }
   ],
   "source": [
    "nn1 = Sequential()\n",
    "nn1.add(Dense(32,activation = 'relu', input_dim = x1.shape[1]))\n",
    "nn1.add(Dense(448,activation = 'relu'))\n",
    "nn1.add(Dropout(0.5))\n",
    "nn1.add(Dense(1))\n",
    "\n",
    "nn1.compile(loss = 'mean_squared_error')\n",
    "nn1.fit(x1, y, validation_split=0.2, epochs=50)"
   ]
  },
  {
   "cell_type": "code",
   "execution_count": null,
   "id": "f3c9febf",
   "metadata": {},
   "outputs": [],
   "source": []
  },
  {
   "cell_type": "markdown",
   "id": "cab7e1c7",
   "metadata": {},
   "source": [
    "# prepare data for prediction "
   ]
  },
  {
   "cell_type": "code",
   "execution_count": 231,
   "id": "27af94b8",
   "metadata": {},
   "outputs": [],
   "source": [
    "b1 = b[b['Predicted_loan_status'] == 'N']"
   ]
  },
  {
   "cell_type": "code",
   "execution_count": 232,
   "id": "5d58f286",
   "metadata": {},
   "outputs": [],
   "source": [
    "replacer(b1)"
   ]
  },
  {
   "cell_type": "code",
   "execution_count": 233,
   "id": "8f2e237b",
   "metadata": {},
   "outputs": [
    {
     "data": {
      "text/plain": [
       "(101, 12)"
      ]
     },
     "execution_count": 233,
     "metadata": {},
     "output_type": "execute_result"
    }
   ],
   "source": [
    "b1.shape"
   ]
  },
  {
   "cell_type": "code",
   "execution_count": 234,
   "id": "d362c044",
   "metadata": {},
   "outputs": [
    {
     "data": {
      "text/plain": [
       "Index(['Gender', 'Married', 'Dependents', 'Education', 'Self_Employed',\n",
       "       'ApplicantIncome', 'CoapplicantIncome', 'LoanAmount',\n",
       "       'Loan_Amount_Term', 'Credit_History', 'Property_Area',\n",
       "       'Predicted_loan_status'],\n",
       "      dtype='object')"
      ]
     },
     "execution_count": 234,
     "metadata": {},
     "output_type": "execute_result"
    }
   ],
   "source": [
    "b1.columns"
   ]
  },
  {
   "cell_type": "code",
   "execution_count": 235,
   "id": "8922106c",
   "metadata": {},
   "outputs": [
    {
     "data": {
      "text/plain": [
       "Index(['Gender', 'Married', 'Dependents', 'Education', 'Self_Employed',\n",
       "       'ApplicantIncome', 'CoapplicantIncome', 'Loan_Amount_Term',\n",
       "       'Credit_History', 'Property_Area', 'Predicted_loan_status'],\n",
       "      dtype='object')"
      ]
     },
     "execution_count": 235,
     "metadata": {},
     "output_type": "execute_result"
    }
   ],
   "source": [
    "x.columns"
   ]
  },
  {
   "cell_type": "code",
   "execution_count": 236,
   "id": "fd834544",
   "metadata": {},
   "outputs": [
    {
     "data": {
      "text/plain": [
       "(688, 11)"
      ]
     },
     "execution_count": 236,
     "metadata": {},
     "output_type": "execute_result"
    }
   ],
   "source": [
    "x.shape"
   ]
  },
  {
   "cell_type": "code",
   "execution_count": 237,
   "id": "fa6cc7f7",
   "metadata": {},
   "outputs": [],
   "source": [
    "b1 = b1.drop(labels=['LoanAmount'],axis=1)"
   ]
  },
  {
   "cell_type": "code",
   "execution_count": 238,
   "id": "589e9525",
   "metadata": {},
   "outputs": [],
   "source": [
    "b1.columns = x.columns"
   ]
  },
  {
   "cell_type": "code",
   "execution_count": 239,
   "id": "fdbef319",
   "metadata": {},
   "outputs": [],
   "source": [
    "newX = preprocessing(b1)"
   ]
  },
  {
   "cell_type": "code",
   "execution_count": 240,
   "id": "d07bb3c0",
   "metadata": {},
   "outputs": [],
   "source": [
    "replacer(newX)"
   ]
  },
  {
   "cell_type": "code",
   "execution_count": 241,
   "id": "a7f30a58",
   "metadata": {},
   "outputs": [
    {
     "data": {
      "text/plain": [
       "ApplicantIncome            0\n",
       "CoapplicantIncome          0\n",
       "Loan_Amount_Term           0\n",
       "Credit_History             0\n",
       "Gender_Female              0\n",
       "Gender_Male                0\n",
       "Married_No                 0\n",
       "Married_Yes                0\n",
       "Dependents_0               0\n",
       "Dependents_1               0\n",
       "Dependents_2               0\n",
       "Dependents_3+              0\n",
       "Education_Graduate         0\n",
       "Education_Not Graduate     0\n",
       "Self_Employed_No           0\n",
       "Self_Employed_Yes          0\n",
       "Property_Area_Rural        0\n",
       "Property_Area_Semiurban    0\n",
       "Property_Area_Urban        0\n",
       "Predicted_loan_status_N    0\n",
       "dtype: int64"
      ]
     },
     "execution_count": 241,
     "metadata": {},
     "output_type": "execute_result"
    }
   ],
   "source": [
    "newX.isna().sum()"
   ]
  },
  {
   "cell_type": "code",
   "execution_count": 242,
   "id": "0e49ddef",
   "metadata": {},
   "outputs": [],
   "source": [
    "newX.columns = x1.columns"
   ]
  },
  {
   "cell_type": "code",
   "execution_count": 243,
   "id": "2242568d",
   "metadata": {},
   "outputs": [],
   "source": [
    "# Predictions"
   ]
  },
  {
   "cell_type": "code",
   "execution_count": 244,
   "id": "c58cd3df",
   "metadata": {},
   "outputs": [],
   "source": [
    "pred = nn1.predict(newX)"
   ]
  },
  {
   "cell_type": "code",
   "execution_count": 245,
   "id": "e469d2a4",
   "metadata": {},
   "outputs": [
    {
     "data": {
      "text/plain": [
       "array([[102.44804 ],\n",
       "       [114.15524 ],\n",
       "       [ 99.32795 ],\n",
       "       [243.42567 ],\n",
       "       [138.84703 ],\n",
       "       [226.30446 ],\n",
       "       [100.668365],\n",
       "       [135.0791  ],\n",
       "       [137.55927 ],\n",
       "       [ 93.28738 ],\n",
       "       [ 94.78196 ],\n",
       "       [ 90.19334 ],\n",
       "       [122.92066 ],\n",
       "       [129.25049 ],\n",
       "       [106.111885],\n",
       "       [119.33306 ],\n",
       "       [183.24959 ],\n",
       "       [151.04948 ],\n",
       "       [ 99.573326],\n",
       "       [133.269   ],\n",
       "       [137.37807 ],\n",
       "       [119.34319 ],\n",
       "       [ 83.0676  ],\n",
       "       [ 84.77216 ],\n",
       "       [100.64621 ],\n",
       "       [ 81.103355],\n",
       "       [128.96945 ],\n",
       "       [261.57098 ],\n",
       "       [162.39421 ],\n",
       "       [100.1352  ],\n",
       "       [129.748   ],\n",
       "       [169.8879  ],\n",
       "       [200.04823 ],\n",
       "       [101.181526],\n",
       "       [159.36801 ],\n",
       "       [178.01593 ],\n",
       "       [ 97.236206],\n",
       "       [ 89.34757 ],\n",
       "       [ 84.65835 ],\n",
       "       [ 76.774216],\n",
       "       [ 93.03472 ],\n",
       "       [107.30529 ],\n",
       "       [136.31819 ],\n",
       "       [ 88.62047 ],\n",
       "       [ 97.581795],\n",
       "       [138.17847 ],\n",
       "       [122.43281 ],\n",
       "       [264.75452 ],\n",
       "       [199.71486 ],\n",
       "       [ 97.74763 ],\n",
       "       [127.024025],\n",
       "       [102.36135 ],\n",
       "       [247.22496 ],\n",
       "       [131.01949 ],\n",
       "       [100.51691 ],\n",
       "       [ 93.400566],\n",
       "       [108.42173 ],\n",
       "       [150.43507 ],\n",
       "       [203.68929 ],\n",
       "       [130.54588 ],\n",
       "       [138.16917 ],\n",
       "       [128.48103 ],\n",
       "       [138.09547 ],\n",
       "       [107.68592 ],\n",
       "       [ 98.12028 ],\n",
       "       [153.29253 ],\n",
       "       [103.149765],\n",
       "       [128.93512 ],\n",
       "       [ 98.768906],\n",
       "       [127.796196],\n",
       "       [137.09058 ],\n",
       "       [ 95.28024 ],\n",
       "       [111.84208 ],\n",
       "       [108.88793 ],\n",
       "       [355.865   ],\n",
       "       [150.26825 ],\n",
       "       [153.101   ],\n",
       "       [148.81404 ],\n",
       "       [107.12676 ],\n",
       "       [112.96702 ],\n",
       "       [200.01543 ],\n",
       "       [277.60568 ],\n",
       "       [111.535545],\n",
       "       [ 95.35912 ],\n",
       "       [120.87536 ],\n",
       "       [176.04225 ],\n",
       "       [158.71892 ],\n",
       "       [294.8881  ],\n",
       "       [118.89823 ],\n",
       "       [115.680374],\n",
       "       [ 91.96235 ],\n",
       "       [127.96176 ],\n",
       "       [141.49536 ],\n",
       "       [ 83.96427 ],\n",
       "       [153.04718 ],\n",
       "       [ 78.58164 ],\n",
       "       [114.68978 ],\n",
       "       [ 95.56696 ],\n",
       "       [194.39053 ],\n",
       "       [109.2603  ],\n",
       "       [ 99.18075 ]], dtype=float32)"
      ]
     },
     "execution_count": 245,
     "metadata": {},
     "output_type": "execute_result"
    }
   ],
   "source": [
    "pred"
   ]
  },
  {
   "cell_type": "markdown",
   "id": "72fb3b8e",
   "metadata": {},
   "source": [
    "# Problem Statement 3 : loan term"
   ]
  },
  {
   "cell_type": "code",
   "execution_count": 198,
   "id": "1f7c3c94",
   "metadata": {},
   "outputs": [
    {
     "data": {
      "text/html": [
       "<div>\n",
       "<style scoped>\n",
       "    .dataframe tbody tr th:only-of-type {\n",
       "        vertical-align: middle;\n",
       "    }\n",
       "\n",
       "    .dataframe tbody tr th {\n",
       "        vertical-align: top;\n",
       "    }\n",
       "\n",
       "    .dataframe thead th {\n",
       "        text-align: right;\n",
       "    }\n",
       "</style>\n",
       "<table border=\"1\" class=\"dataframe\">\n",
       "  <thead>\n",
       "    <tr style=\"text-align: right;\">\n",
       "      <th></th>\n",
       "      <th>Loan_ID</th>\n",
       "      <th>Gender</th>\n",
       "      <th>Married</th>\n",
       "      <th>Dependents</th>\n",
       "      <th>Education</th>\n",
       "      <th>Self_Employed</th>\n",
       "      <th>ApplicantIncome</th>\n",
       "      <th>CoapplicantIncome</th>\n",
       "      <th>LoanAmount</th>\n",
       "      <th>Loan_Amount_Term</th>\n",
       "      <th>Credit_History</th>\n",
       "      <th>Property_Area</th>\n",
       "      <th>Loan_Status</th>\n",
       "    </tr>\n",
       "  </thead>\n",
       "  <tbody>\n",
       "    <tr>\n",
       "      <th>0</th>\n",
       "      <td>LP001002</td>\n",
       "      <td>Male</td>\n",
       "      <td>No</td>\n",
       "      <td>0</td>\n",
       "      <td>Graduate</td>\n",
       "      <td>No</td>\n",
       "      <td>5849.00000</td>\n",
       "      <td>0.0</td>\n",
       "      <td>146.412162</td>\n",
       "      <td>360.0</td>\n",
       "      <td>1.0</td>\n",
       "      <td>Urban</td>\n",
       "      <td>Y</td>\n",
       "    </tr>\n",
       "    <tr>\n",
       "      <th>1</th>\n",
       "      <td>LP001003</td>\n",
       "      <td>Male</td>\n",
       "      <td>Yes</td>\n",
       "      <td>1</td>\n",
       "      <td>Graduate</td>\n",
       "      <td>No</td>\n",
       "      <td>5405.54085</td>\n",
       "      <td>1508.0</td>\n",
       "      <td>128.000000</td>\n",
       "      <td>360.0</td>\n",
       "      <td>1.0</td>\n",
       "      <td>Rural</td>\n",
       "      <td>N</td>\n",
       "    </tr>\n",
       "    <tr>\n",
       "      <th>2</th>\n",
       "      <td>LP001005</td>\n",
       "      <td>Male</td>\n",
       "      <td>Yes</td>\n",
       "      <td>0</td>\n",
       "      <td>Graduate</td>\n",
       "      <td>Yes</td>\n",
       "      <td>3000.00000</td>\n",
       "      <td>0.0</td>\n",
       "      <td>66.000000</td>\n",
       "      <td>360.0</td>\n",
       "      <td>1.0</td>\n",
       "      <td>Urban</td>\n",
       "      <td>Y</td>\n",
       "    </tr>\n",
       "    <tr>\n",
       "      <th>3</th>\n",
       "      <td>LP001006</td>\n",
       "      <td>Male</td>\n",
       "      <td>Yes</td>\n",
       "      <td>0</td>\n",
       "      <td>Not Graduate</td>\n",
       "      <td>No</td>\n",
       "      <td>2583.00000</td>\n",
       "      <td>2358.0</td>\n",
       "      <td>120.000000</td>\n",
       "      <td>360.0</td>\n",
       "      <td>1.0</td>\n",
       "      <td>Urban</td>\n",
       "      <td>Y</td>\n",
       "    </tr>\n",
       "    <tr>\n",
       "      <th>4</th>\n",
       "      <td>LP001008</td>\n",
       "      <td>Male</td>\n",
       "      <td>No</td>\n",
       "      <td>0</td>\n",
       "      <td>Graduate</td>\n",
       "      <td>No</td>\n",
       "      <td>6000.00000</td>\n",
       "      <td>0.0</td>\n",
       "      <td>141.000000</td>\n",
       "      <td>360.0</td>\n",
       "      <td>1.0</td>\n",
       "      <td>Urban</td>\n",
       "      <td>Y</td>\n",
       "    </tr>\n",
       "  </tbody>\n",
       "</table>\n",
       "</div>"
      ],
      "text/plain": [
       "    Loan_ID Gender Married Dependents     Education Self_Employed  \\\n",
       "0  LP001002   Male      No          0      Graduate            No   \n",
       "1  LP001003   Male     Yes          1      Graduate            No   \n",
       "2  LP001005   Male     Yes          0      Graduate           Yes   \n",
       "3  LP001006   Male     Yes          0  Not Graduate            No   \n",
       "4  LP001008   Male      No          0      Graduate            No   \n",
       "\n",
       "   ApplicantIncome  CoapplicantIncome  LoanAmount  Loan_Amount_Term  \\\n",
       "0       5849.00000                0.0  146.412162             360.0   \n",
       "1       5405.54085             1508.0  128.000000             360.0   \n",
       "2       3000.00000                0.0   66.000000             360.0   \n",
       "3       2583.00000             2358.0  120.000000             360.0   \n",
       "4       6000.00000                0.0  141.000000             360.0   \n",
       "\n",
       "   Credit_History Property_Area Loan_Status  \n",
       "0             1.0         Urban           Y  \n",
       "1             1.0         Rural           N  \n",
       "2             1.0         Urban           Y  \n",
       "3             1.0         Urban           Y  \n",
       "4             1.0         Urban           Y  "
      ]
     },
     "execution_count": 198,
     "metadata": {},
     "output_type": "execute_result"
    }
   ],
   "source": [
    "train = a\n",
    "train.head()"
   ]
  },
  {
   "cell_type": "code",
   "execution_count": 199,
   "id": "3b92a86d",
   "metadata": {},
   "outputs": [
    {
     "data": {
      "text/html": [
       "<div>\n",
       "<style scoped>\n",
       "    .dataframe tbody tr th:only-of-type {\n",
       "        vertical-align: middle;\n",
       "    }\n",
       "\n",
       "    .dataframe tbody tr th {\n",
       "        vertical-align: top;\n",
       "    }\n",
       "\n",
       "    .dataframe thead th {\n",
       "        text-align: right;\n",
       "    }\n",
       "</style>\n",
       "<table border=\"1\" class=\"dataframe\">\n",
       "  <thead>\n",
       "    <tr style=\"text-align: right;\">\n",
       "      <th></th>\n",
       "      <th>Gender</th>\n",
       "      <th>Married</th>\n",
       "      <th>Dependents</th>\n",
       "      <th>Education</th>\n",
       "      <th>Self_Employed</th>\n",
       "      <th>ApplicantIncome</th>\n",
       "      <th>CoapplicantIncome</th>\n",
       "      <th>LoanAmount</th>\n",
       "      <th>Loan_Amount_Term</th>\n",
       "      <th>Credit_History</th>\n",
       "      <th>Property_Area</th>\n",
       "      <th>Predicted_loan_status</th>\n",
       "    </tr>\n",
       "  </thead>\n",
       "  <tbody>\n",
       "    <tr>\n",
       "      <th>0</th>\n",
       "      <td>Male</td>\n",
       "      <td>Yes</td>\n",
       "      <td>0</td>\n",
       "      <td>Graduate</td>\n",
       "      <td>No</td>\n",
       "      <td>5720</td>\n",
       "      <td>0</td>\n",
       "      <td>110.0</td>\n",
       "      <td>360.0</td>\n",
       "      <td>1.000000</td>\n",
       "      <td>Urban</td>\n",
       "      <td>Y</td>\n",
       "    </tr>\n",
       "    <tr>\n",
       "      <th>1</th>\n",
       "      <td>Male</td>\n",
       "      <td>Yes</td>\n",
       "      <td>1</td>\n",
       "      <td>Graduate</td>\n",
       "      <td>No</td>\n",
       "      <td>3076</td>\n",
       "      <td>1500</td>\n",
       "      <td>126.0</td>\n",
       "      <td>360.0</td>\n",
       "      <td>1.000000</td>\n",
       "      <td>Urban</td>\n",
       "      <td>Y</td>\n",
       "    </tr>\n",
       "    <tr>\n",
       "      <th>2</th>\n",
       "      <td>Male</td>\n",
       "      <td>Yes</td>\n",
       "      <td>2</td>\n",
       "      <td>Graduate</td>\n",
       "      <td>No</td>\n",
       "      <td>5000</td>\n",
       "      <td>1800</td>\n",
       "      <td>208.0</td>\n",
       "      <td>360.0</td>\n",
       "      <td>1.000000</td>\n",
       "      <td>Urban</td>\n",
       "      <td>Y</td>\n",
       "    </tr>\n",
       "    <tr>\n",
       "      <th>3</th>\n",
       "      <td>Male</td>\n",
       "      <td>Yes</td>\n",
       "      <td>2</td>\n",
       "      <td>Graduate</td>\n",
       "      <td>No</td>\n",
       "      <td>2340</td>\n",
       "      <td>2546</td>\n",
       "      <td>100.0</td>\n",
       "      <td>360.0</td>\n",
       "      <td>0.825444</td>\n",
       "      <td>Urban</td>\n",
       "      <td>Y</td>\n",
       "    </tr>\n",
       "    <tr>\n",
       "      <th>4</th>\n",
       "      <td>Male</td>\n",
       "      <td>No</td>\n",
       "      <td>0</td>\n",
       "      <td>Not Graduate</td>\n",
       "      <td>No</td>\n",
       "      <td>3276</td>\n",
       "      <td>0</td>\n",
       "      <td>78.0</td>\n",
       "      <td>360.0</td>\n",
       "      <td>1.000000</td>\n",
       "      <td>Urban</td>\n",
       "      <td>N</td>\n",
       "    </tr>\n",
       "  </tbody>\n",
       "</table>\n",
       "</div>"
      ],
      "text/plain": [
       "  Gender Married Dependents     Education Self_Employed  ApplicantIncome  \\\n",
       "0   Male     Yes          0      Graduate            No             5720   \n",
       "1   Male     Yes          1      Graduate            No             3076   \n",
       "2   Male     Yes          2      Graduate            No             5000   \n",
       "3   Male     Yes          2      Graduate            No             2340   \n",
       "4   Male      No          0  Not Graduate            No             3276   \n",
       "\n",
       "   CoapplicantIncome  LoanAmount  Loan_Amount_Term  Credit_History  \\\n",
       "0                  0       110.0             360.0        1.000000   \n",
       "1               1500       126.0             360.0        1.000000   \n",
       "2               1800       208.0             360.0        1.000000   \n",
       "3               2546       100.0             360.0        0.825444   \n",
       "4                  0        78.0             360.0        1.000000   \n",
       "\n",
       "  Property_Area Predicted_loan_status  \n",
       "0         Urban                     Y  \n",
       "1         Urban                     Y  \n",
       "2         Urban                     Y  \n",
       "3         Urban                     Y  \n",
       "4         Urban                     N  "
      ]
     },
     "execution_count": 199,
     "metadata": {},
     "output_type": "execute_result"
    }
   ],
   "source": [
    "test = b\n",
    "test.head()"
   ]
  },
  {
   "cell_type": "code",
   "execution_count": 200,
   "id": "486474d8",
   "metadata": {},
   "outputs": [],
   "source": [
    "p1 = train[(train['Loan_Status'] == 'Y') & (train['Loan_Amount_Term'] <= 240)]\n",
    "p2 = test[(test['Predicted_loan_status'] == 'Y') & (test['Loan_Amount_Term'] <= 240)]"
   ]
  },
  {
   "cell_type": "code",
   "execution_count": 201,
   "id": "309067ef",
   "metadata": {},
   "outputs": [],
   "source": [
    "p1 = p1.drop(labels=['Loan_ID'],axis=1)"
   ]
  },
  {
   "cell_type": "code",
   "execution_count": 202,
   "id": "ef5a546e",
   "metadata": {},
   "outputs": [
    {
     "data": {
      "text/plain": [
       "(41, 12)"
      ]
     },
     "execution_count": 202,
     "metadata": {},
     "output_type": "execute_result"
    }
   ],
   "source": [
    "p1.shape"
   ]
  },
  {
   "cell_type": "code",
   "execution_count": 203,
   "id": "441c4823",
   "metadata": {},
   "outputs": [
    {
     "data": {
      "text/plain": [
       "(27, 12)"
      ]
     },
     "execution_count": 203,
     "metadata": {},
     "output_type": "execute_result"
    }
   ],
   "source": [
    "p2.shape"
   ]
  },
  {
   "cell_type": "code",
   "execution_count": 204,
   "id": "f8de357d",
   "metadata": {},
   "outputs": [],
   "source": [
    "replacer(p1)\n",
    "replacer(p2)"
   ]
  },
  {
   "cell_type": "code",
   "execution_count": 205,
   "id": "82b361e3",
   "metadata": {},
   "outputs": [],
   "source": [
    "p1.columns = p2.columns"
   ]
  },
  {
   "cell_type": "code",
   "execution_count": 206,
   "id": "c6d6d852",
   "metadata": {},
   "outputs": [],
   "source": [
    "p = pd.concat([p1,p2])"
   ]
  },
  {
   "cell_type": "code",
   "execution_count": 207,
   "id": "7db85d28",
   "metadata": {},
   "outputs": [
    {
     "data": {
      "text/html": [
       "<div>\n",
       "<style scoped>\n",
       "    .dataframe tbody tr th:only-of-type {\n",
       "        vertical-align: middle;\n",
       "    }\n",
       "\n",
       "    .dataframe tbody tr th {\n",
       "        vertical-align: top;\n",
       "    }\n",
       "\n",
       "    .dataframe thead th {\n",
       "        text-align: right;\n",
       "    }\n",
       "</style>\n",
       "<table border=\"1\" class=\"dataframe\">\n",
       "  <thead>\n",
       "    <tr style=\"text-align: right;\">\n",
       "      <th></th>\n",
       "      <th>Gender</th>\n",
       "      <th>Married</th>\n",
       "      <th>Dependents</th>\n",
       "      <th>Education</th>\n",
       "      <th>Self_Employed</th>\n",
       "      <th>ApplicantIncome</th>\n",
       "      <th>CoapplicantIncome</th>\n",
       "      <th>LoanAmount</th>\n",
       "      <th>Loan_Amount_Term</th>\n",
       "      <th>Credit_History</th>\n",
       "      <th>Property_Area</th>\n",
       "      <th>Predicted_loan_status</th>\n",
       "    </tr>\n",
       "  </thead>\n",
       "  <tbody>\n",
       "    <tr>\n",
       "      <th>14</th>\n",
       "      <td>Male</td>\n",
       "      <td>Yes</td>\n",
       "      <td>2</td>\n",
       "      <td>Graduate</td>\n",
       "      <td>No</td>\n",
       "      <td>1299.0</td>\n",
       "      <td>1086.0</td>\n",
       "      <td>17.0</td>\n",
       "      <td>120.0</td>\n",
       "      <td>1.000000</td>\n",
       "      <td>Urban</td>\n",
       "      <td>Y</td>\n",
       "    </tr>\n",
       "    <tr>\n",
       "      <th>16</th>\n",
       "      <td>Male</td>\n",
       "      <td>No</td>\n",
       "      <td>1</td>\n",
       "      <td>Not Graduate</td>\n",
       "      <td>No</td>\n",
       "      <td>3596.0</td>\n",
       "      <td>0.0</td>\n",
       "      <td>100.0</td>\n",
       "      <td>240.0</td>\n",
       "      <td>0.842199</td>\n",
       "      <td>Urban</td>\n",
       "      <td>Y</td>\n",
       "    </tr>\n",
       "    <tr>\n",
       "      <th>68</th>\n",
       "      <td>Male</td>\n",
       "      <td>Yes</td>\n",
       "      <td>3+</td>\n",
       "      <td>Not Graduate</td>\n",
       "      <td>Yes</td>\n",
       "      <td>7100.0</td>\n",
       "      <td>0.0</td>\n",
       "      <td>125.0</td>\n",
       "      <td>60.0</td>\n",
       "      <td>1.000000</td>\n",
       "      <td>Urban</td>\n",
       "      <td>Y</td>\n",
       "    </tr>\n",
       "    <tr>\n",
       "      <th>84</th>\n",
       "      <td>Male</td>\n",
       "      <td>Yes</td>\n",
       "      <td>1</td>\n",
       "      <td>Graduate</td>\n",
       "      <td>No</td>\n",
       "      <td>3988.0</td>\n",
       "      <td>0.0</td>\n",
       "      <td>50.0</td>\n",
       "      <td>240.0</td>\n",
       "      <td>1.000000</td>\n",
       "      <td>Urban</td>\n",
       "      <td>Y</td>\n",
       "    </tr>\n",
       "    <tr>\n",
       "      <th>91</th>\n",
       "      <td>Male</td>\n",
       "      <td>Yes</td>\n",
       "      <td>2</td>\n",
       "      <td>Graduate</td>\n",
       "      <td>No</td>\n",
       "      <td>6250.0</td>\n",
       "      <td>5654.0</td>\n",
       "      <td>188.0</td>\n",
       "      <td>180.0</td>\n",
       "      <td>1.000000</td>\n",
       "      <td>Semiurban</td>\n",
       "      <td>Y</td>\n",
       "    </tr>\n",
       "  </tbody>\n",
       "</table>\n",
       "</div>"
      ],
      "text/plain": [
       "   Gender Married Dependents     Education Self_Employed  ApplicantIncome  \\\n",
       "14   Male     Yes          2      Graduate            No           1299.0   \n",
       "16   Male      No          1  Not Graduate            No           3596.0   \n",
       "68   Male     Yes         3+  Not Graduate           Yes           7100.0   \n",
       "84   Male     Yes          1      Graduate            No           3988.0   \n",
       "91   Male     Yes          2      Graduate            No           6250.0   \n",
       "\n",
       "    CoapplicantIncome  LoanAmount  Loan_Amount_Term  Credit_History  \\\n",
       "14             1086.0        17.0             120.0        1.000000   \n",
       "16                0.0       100.0             240.0        0.842199   \n",
       "68                0.0       125.0              60.0        1.000000   \n",
       "84                0.0        50.0             240.0        1.000000   \n",
       "91             5654.0       188.0             180.0        1.000000   \n",
       "\n",
       "   Property_Area Predicted_loan_status  \n",
       "14         Urban                     Y  \n",
       "16         Urban                     Y  \n",
       "68         Urban                     Y  \n",
       "84         Urban                     Y  \n",
       "91     Semiurban                     Y  "
      ]
     },
     "execution_count": 207,
     "metadata": {},
     "output_type": "execute_result"
    }
   ],
   "source": [
    "p.head()"
   ]
  },
  {
   "cell_type": "code",
   "execution_count": 208,
   "id": "d86f563b",
   "metadata": {},
   "outputs": [
    {
     "data": {
      "text/plain": [
       "(68, 12)"
      ]
     },
     "execution_count": 208,
     "metadata": {},
     "output_type": "execute_result"
    }
   ],
   "source": [
    "p.shape"
   ]
  },
  {
   "cell_type": "code",
   "execution_count": null,
   "id": "0c7137d3",
   "metadata": {},
   "outputs": [],
   "source": []
  },
  {
   "cell_type": "code",
   "execution_count": 209,
   "id": "f7a2f358",
   "metadata": {},
   "outputs": [],
   "source": [
    "cat3 , con3 = catconsep(p)"
   ]
  },
  {
   "cell_type": "code",
   "execution_count": 210,
   "id": "eb09bcc5",
   "metadata": {},
   "outputs": [
    {
     "data": {
      "text/plain": [
       "['Gender',\n",
       " 'Married',\n",
       " 'Dependents',\n",
       " 'Education',\n",
       " 'Self_Employed',\n",
       " 'Property_Area',\n",
       " 'Predicted_loan_status']"
      ]
     },
     "execution_count": 210,
     "metadata": {},
     "output_type": "execute_result"
    }
   ],
   "source": [
    "cat3"
   ]
  },
  {
   "cell_type": "code",
   "execution_count": 211,
   "id": "4b69fb1b",
   "metadata": {},
   "outputs": [
    {
     "data": {
      "text/plain": [
       "['ApplicantIncome',\n",
       " 'CoapplicantIncome',\n",
       " 'LoanAmount',\n",
       " 'Loan_Amount_Term',\n",
       " 'Credit_History']"
      ]
     },
     "execution_count": 211,
     "metadata": {},
     "output_type": "execute_result"
    }
   ],
   "source": [
    "con3"
   ]
  },
  {
   "cell_type": "code",
   "execution_count": null,
   "id": "76830147",
   "metadata": {},
   "outputs": [],
   "source": []
  },
  {
   "cell_type": "code",
   "execution_count": 212,
   "id": "8bd04080",
   "metadata": {},
   "outputs": [],
   "source": [
    "#define x and y\n",
    "\n",
    "x3 = p.drop(labels=[\"Loan_Amount_Term\"],axis=1)\n",
    "y3 = p[[\"Loan_Amount_Term\"]]"
   ]
  },
  {
   "cell_type": "code",
   "execution_count": null,
   "id": "24b005f0",
   "metadata": {},
   "outputs": [],
   "source": []
  },
  {
   "cell_type": "code",
   "execution_count": 213,
   "id": "b9bd9b47",
   "metadata": {},
   "outputs": [],
   "source": [
    "from sklearn.preprocessing import LabelEncoder\n",
    "le = LabelEncoder()\n",
    "\n",
    "for i in cat3:\n",
    "    x3[i] = le.fit_transform(x3[i])"
   ]
  },
  {
   "cell_type": "code",
   "execution_count": null,
   "id": "7324e101",
   "metadata": {},
   "outputs": [],
   "source": []
  },
  {
   "cell_type": "code",
   "execution_count": 214,
   "id": "84942345",
   "metadata": {},
   "outputs": [],
   "source": [
    "from sklearn.model_selection import train_test_split\n",
    "xtrain,xtest,ytrain,ytest = train_test_split(x3, y3, test_size=0.2, random_state=31)"
   ]
  },
  {
   "cell_type": "code",
   "execution_count": null,
   "id": "399c0991",
   "metadata": {},
   "outputs": [],
   "source": []
  },
  {
   "cell_type": "markdown",
   "id": "31bda168",
   "metadata": {},
   "source": [
    "# create NN"
   ]
  },
  {
   "cell_type": "code",
   "execution_count": 215,
   "id": "7a023e03",
   "metadata": {},
   "outputs": [
    {
     "name": "stdout",
     "output_type": "stream",
     "text": [
      "Epoch 1/50\n",
      "2/2 [==============================] - 0s 94ms/step - loss: 305039.1562 - val_loss: 44463.3867\n",
      "Epoch 2/50\n",
      "2/2 [==============================] - 0s 14ms/step - loss: 48764.3086 - val_loss: 25522.8262\n",
      "Epoch 3/50\n",
      "2/2 [==============================] - 0s 15ms/step - loss: 30157.7617 - val_loss: 20149.0957\n",
      "Epoch 4/50\n",
      "2/2 [==============================] - 0s 13ms/step - loss: 24003.0176 - val_loss: 14730.7080\n",
      "Epoch 5/50\n",
      "2/2 [==============================] - 0s 15ms/step - loss: 21258.6426 - val_loss: 12629.4199\n",
      "Epoch 6/50\n",
      "2/2 [==============================] - 0s 18ms/step - loss: 19599.2676 - val_loss: 13464.5674\n",
      "Epoch 7/50\n",
      "2/2 [==============================] - 0s 14ms/step - loss: 17886.1855 - val_loss: 10499.8076\n",
      "Epoch 8/50\n",
      "2/2 [==============================] - 0s 13ms/step - loss: 19545.9121 - val_loss: 14574.3232\n",
      "Epoch 9/50\n",
      "2/2 [==============================] - 0s 13ms/step - loss: 19446.4668 - val_loss: 9570.9541\n",
      "Epoch 10/50\n",
      "2/2 [==============================] - 0s 15ms/step - loss: 16819.5078 - val_loss: 9425.7129\n",
      "Epoch 11/50\n",
      "2/2 [==============================] - 0s 15ms/step - loss: 16255.2256 - val_loss: 12039.2480\n",
      "Epoch 12/50\n",
      "2/2 [==============================] - 0s 15ms/step - loss: 16343.3311 - val_loss: 8924.2461\n",
      "Epoch 13/50\n",
      "2/2 [==============================] - 0s 14ms/step - loss: 18890.6992 - val_loss: 8839.9170\n",
      "Epoch 14/50\n",
      "2/2 [==============================] - 0s 17ms/step - loss: 19037.7285 - val_loss: 17649.3242\n",
      "Epoch 15/50\n",
      "2/2 [==============================] - 0s 15ms/step - loss: 24900.5957 - val_loss: 8518.0850\n",
      "Epoch 16/50\n",
      "2/2 [==============================] - 0s 15ms/step - loss: 15589.1133 - val_loss: 12231.9043\n",
      "Epoch 17/50\n",
      "2/2 [==============================] - 0s 12ms/step - loss: 17181.1289 - val_loss: 8791.4277\n",
      "Epoch 18/50\n",
      "2/2 [==============================] - 0s 13ms/step - loss: 15397.5195 - val_loss: 12368.2119\n",
      "Epoch 19/50\n",
      "2/2 [==============================] - 0s 12ms/step - loss: 17765.4805 - val_loss: 8578.5078\n",
      "Epoch 20/50\n",
      "2/2 [==============================] - 0s 13ms/step - loss: 15043.0146 - val_loss: 12863.3506\n",
      "Epoch 21/50\n",
      "2/2 [==============================] - 0s 12ms/step - loss: 17811.7188 - val_loss: 8263.2725\n",
      "Epoch 22/50\n",
      "2/2 [==============================] - 0s 15ms/step - loss: 15887.3311 - val_loss: 9185.7578\n",
      "Epoch 23/50\n",
      "2/2 [==============================] - 0s 13ms/step - loss: 14062.5068 - val_loss: 8032.1748\n",
      "Epoch 24/50\n",
      "2/2 [==============================] - 0s 13ms/step - loss: 16923.2891 - val_loss: 7728.3540\n",
      "Epoch 25/50\n",
      "2/2 [==============================] - 0s 12ms/step - loss: 21148.3242 - val_loss: 23386.2129\n",
      "Epoch 26/50\n",
      "2/2 [==============================] - 0s 13ms/step - loss: 39419.2734 - val_loss: 7925.3501\n",
      "Epoch 27/50\n",
      "2/2 [==============================] - 0s 11ms/step - loss: 20061.1641 - val_loss: 8389.3848\n",
      "Epoch 28/50\n",
      "2/2 [==============================] - 0s 10ms/step - loss: 14162.1816 - val_loss: 8588.7822\n",
      "Epoch 29/50\n",
      "2/2 [==============================] - 0s 10ms/step - loss: 14034.7666 - val_loss: 10646.5000\n",
      "Epoch 30/50\n",
      "2/2 [==============================] - 0s 9ms/step - loss: 14271.5742 - val_loss: 7906.9541\n",
      "Epoch 31/50\n",
      "2/2 [==============================] - 0s 9ms/step - loss: 20524.9844 - val_loss: 8424.4531\n",
      "Epoch 32/50\n",
      "2/2 [==============================] - 0s 10ms/step - loss: 15968.6494 - val_loss: 8320.0918\n",
      "Epoch 33/50\n",
      "2/2 [==============================] - 0s 10ms/step - loss: 16957.9941 - val_loss: 8388.5723\n",
      "Epoch 34/50\n",
      "2/2 [==============================] - 0s 10ms/step - loss: 15068.7881 - val_loss: 13988.7959\n",
      "Epoch 35/50\n",
      "2/2 [==============================] - 0s 10ms/step - loss: 18550.0645 - val_loss: 11119.6006\n",
      "Epoch 36/50\n",
      "2/2 [==============================] - 0s 10ms/step - loss: 13993.6914 - val_loss: 7780.3726\n",
      "Epoch 37/50\n",
      "2/2 [==============================] - 0s 9ms/step - loss: 27868.2500 - val_loss: 10356.8857\n",
      "Epoch 38/50\n",
      "2/2 [==============================] - 0s 10ms/step - loss: 17788.2637 - val_loss: 15028.4619\n",
      "Epoch 39/50\n",
      "2/2 [==============================] - 0s 9ms/step - loss: 18737.5332 - val_loss: 9118.8877\n",
      "Epoch 40/50\n",
      "2/2 [==============================] - 0s 10ms/step - loss: 13668.1670 - val_loss: 7974.4688\n",
      "Epoch 41/50\n",
      "2/2 [==============================] - 0s 10ms/step - loss: 16143.0977 - val_loss: 8454.5127\n",
      "Epoch 42/50\n",
      "2/2 [==============================] - 0s 10ms/step - loss: 17436.9043 - val_loss: 19691.4824\n",
      "Epoch 43/50\n",
      "2/2 [==============================] - 0s 10ms/step - loss: 25191.7031 - val_loss: 8393.5879\n",
      "Epoch 44/50\n",
      "2/2 [==============================] - 0s 10ms/step - loss: 25369.6289 - val_loss: 7973.9072\n",
      "Epoch 45/50\n",
      "2/2 [==============================] - 0s 10ms/step - loss: 14634.8311 - val_loss: 12612.4922\n",
      "Epoch 46/50\n",
      "2/2 [==============================] - 0s 11ms/step - loss: 16870.4277 - val_loss: 10688.7871\n",
      "Epoch 47/50\n",
      "2/2 [==============================] - 0s 10ms/step - loss: 17225.5020 - val_loss: 13926.6084\n",
      "Epoch 48/50\n",
      "2/2 [==============================] - 0s 11ms/step - loss: 16457.6406 - val_loss: 8325.9814\n",
      "Epoch 49/50\n",
      "2/2 [==============================] - 0s 11ms/step - loss: 17703.5820 - val_loss: 8605.5371\n",
      "Epoch 50/50\n",
      "2/2 [==============================] - 0s 12ms/step - loss: 14562.9932 - val_loss: 13456.3027\n"
     ]
    },
    {
     "data": {
      "text/plain": [
       "<tensorflow.python.keras.callbacks.History at 0x295b8027c70>"
      ]
     },
     "execution_count": 215,
     "metadata": {},
     "output_type": "execute_result"
    }
   ],
   "source": [
    "nn1 = Sequential()\n",
    "nn1.add(Dense(32,activation = 'relu', input_dim = x3.shape[1]))\n",
    "nn1.add(Dense(32,activation = 'relu'))\n",
    "nn1.add(Dense(1))\n",
    "\n",
    "nn1.compile(loss = 'mean_squared_error')\n",
    "nn1.fit(x3, y3, validation_split=0.2, epochs=50)"
   ]
  },
  {
   "cell_type": "code",
   "execution_count": 246,
   "id": "2b8ca28e",
   "metadata": {},
   "outputs": [],
   "source": [
    "# keras tuner\n",
    "\n",
    "def model_builder(hp):\n",
    "    nn = Sequential()\n",
    "    nn.add(Dense(32, activation = 'relu', input_dim = x3.shape[1]))\n",
    "    x = hp.Int('units', min_value = 32, max_value = 512, step= 32)\n",
    "    nn.add(Dense(units=x))\n",
    "    lr = hp.Choice('rate', values=[0.1,0.2,0.3,0.4,0.5,0.6,0.7,0.8,0.9])\n",
    "    nn.add(Dropout(rate = lr))\n",
    "    nn.add(Dense(1))\n",
    "    nn.compile(loss='mean_squared_error')\n",
    "    return nn"
   ]
  },
  {
   "cell_type": "code",
   "execution_count": 249,
   "id": "e54fbb8f",
   "metadata": {},
   "outputs": [],
   "source": [
    "tuner = kt.Hyperband(model_builder, objective='val_loss', max_epochs=10,\n",
    "                    directory= 'C:/Users/Lenovo/Downloads/kt6',\n",
    "                     project_name = 'loan_status_3')"
   ]
  },
  {
   "cell_type": "code",
   "execution_count": 250,
   "id": "46e16085",
   "metadata": {},
   "outputs": [
    {
     "name": "stdout",
     "output_type": "stream",
     "text": [
      "Trial 30 Complete [00h 00m 01s]\n",
      "val_loss: 8851.1669921875\n",
      "\n",
      "Best val_loss So Far: 7615.88330078125\n",
      "Total elapsed time: 00h 00m 39s\n",
      "INFO:tensorflow:Oracle triggered exit\n"
     ]
    }
   ],
   "source": [
    "tuner.search(x3, y3, validation_split = 0.2, epochs= 50)"
   ]
  },
  {
   "cell_type": "code",
   "execution_count": null,
   "id": "4dbae87d",
   "metadata": {},
   "outputs": [],
   "source": []
  },
  {
   "cell_type": "code",
   "execution_count": 251,
   "id": "69de21f7",
   "metadata": {},
   "outputs": [
    {
     "data": {
      "text/plain": [
       "256"
      ]
     },
     "execution_count": 251,
     "metadata": {},
     "output_type": "execute_result"
    }
   ],
   "source": [
    "tuner.get_best_hyperparameters(num_trials=1)[0].get('units')"
   ]
  },
  {
   "cell_type": "code",
   "execution_count": 252,
   "id": "2dba6e1b",
   "metadata": {},
   "outputs": [
    {
     "data": {
      "text/plain": [
       "0.3"
      ]
     },
     "execution_count": 252,
     "metadata": {},
     "output_type": "execute_result"
    }
   ],
   "source": [
    "tuner.get_best_hyperparameters()[0].get('rate')"
   ]
  },
  {
   "cell_type": "code",
   "execution_count": null,
   "id": "a013e94e",
   "metadata": {},
   "outputs": [],
   "source": []
  },
  {
   "cell_type": "code",
   "execution_count": 253,
   "id": "406c93ae",
   "metadata": {},
   "outputs": [
    {
     "name": "stdout",
     "output_type": "stream",
     "text": [
      "Epoch 1/50\n",
      "2/2 [==============================] - 0s 118ms/step - loss: 3007912.0000 - val_loss: 19610.2852\n",
      "Epoch 2/50\n",
      "2/2 [==============================] - 0s 15ms/step - loss: 434443.1562 - val_loss: 86410.0078\n",
      "Epoch 3/50\n",
      "2/2 [==============================] - 0s 14ms/step - loss: 258002.1406 - val_loss: 19307.8340\n",
      "Epoch 4/50\n",
      "2/2 [==============================] - 0s 13ms/step - loss: 320523.0625 - val_loss: 36710.0000\n",
      "Epoch 5/50\n",
      "2/2 [==============================] - 0s 14ms/step - loss: 193506.8906 - val_loss: 13391.8740\n",
      "Epoch 6/50\n",
      "2/2 [==============================] - 0s 13ms/step - loss: 329772.8125 - val_loss: 46081.4922\n",
      "Epoch 7/50\n",
      "2/2 [==============================] - 0s 15ms/step - loss: 416805.6562 - val_loss: 11095.9932\n",
      "Epoch 8/50\n",
      "2/2 [==============================] - 0s 13ms/step - loss: 99935.9922 - val_loss: 8695.1660\n",
      "Epoch 9/50\n",
      "2/2 [==============================] - 0s 12ms/step - loss: 264556.0312 - val_loss: 13872.4189\n",
      "Epoch 10/50\n",
      "2/2 [==============================] - 0s 11ms/step - loss: 80413.7656 - val_loss: 13539.2783\n",
      "Epoch 11/50\n",
      "2/2 [==============================] - 0s 12ms/step - loss: 230748.0000 - val_loss: 87129.9531\n",
      "Epoch 12/50\n",
      "2/2 [==============================] - 0s 11ms/step - loss: 202435.2188 - val_loss: 21340.9707\n",
      "Epoch 13/50\n",
      "2/2 [==============================] - 0s 10ms/step - loss: 289372.9375 - val_loss: 55517.5000\n",
      "Epoch 14/50\n",
      "2/2 [==============================] - 0s 12ms/step - loss: 578090.8750 - val_loss: 14100.2969\n",
      "Epoch 15/50\n",
      "2/2 [==============================] - 0s 10ms/step - loss: 146457.6250 - val_loss: 10919.6768\n",
      "Epoch 16/50\n",
      "2/2 [==============================] - 0s 9ms/step - loss: 238391.3281 - val_loss: 23202.3262\n",
      "Epoch 17/50\n",
      "2/2 [==============================] - 0s 10ms/step - loss: 261951.0156 - val_loss: 18293.5977\n",
      "Epoch 18/50\n",
      "2/2 [==============================] - 0s 11ms/step - loss: 72308.6641 - val_loss: 15513.0479\n",
      "Epoch 19/50\n",
      "2/2 [==============================] - 0s 12ms/step - loss: 754962.8125 - val_loss: 86067.4141\n",
      "Epoch 20/50\n",
      "2/2 [==============================] - 0s 11ms/step - loss: 544021.5000 - val_loss: 16582.8301\n",
      "Epoch 21/50\n",
      "2/2 [==============================] - 0s 11ms/step - loss: 118291.7891 - val_loss: 20787.5801\n",
      "Epoch 22/50\n",
      "2/2 [==============================] - 0s 11ms/step - loss: 117606.8438 - val_loss: 8553.5508\n",
      "Epoch 23/50\n",
      "2/2 [==============================] - 0s 11ms/step - loss: 146823.9531 - val_loss: 16544.8691\n",
      "Epoch 24/50\n",
      "2/2 [==============================] - 0s 12ms/step - loss: 133393.6562 - val_loss: 27713.4238\n",
      "Epoch 25/50\n",
      "2/2 [==============================] - 0s 10ms/step - loss: 115360.1172 - val_loss: 9821.8389\n",
      "Epoch 26/50\n",
      "2/2 [==============================] - 0s 11ms/step - loss: 139145.6406 - val_loss: 14011.9795\n",
      "Epoch 27/50\n",
      "2/2 [==============================] - 0s 10ms/step - loss: 128950.6484 - val_loss: 14193.8936\n",
      "Epoch 28/50\n",
      "2/2 [==============================] - 0s 10ms/step - loss: 519991.7812 - val_loss: 23704.6602\n",
      "Epoch 29/50\n",
      "2/2 [==============================] - 0s 12ms/step - loss: 156973.1875 - val_loss: 12392.4375\n",
      "Epoch 30/50\n",
      "2/2 [==============================] - 0s 11ms/step - loss: 418636.6250 - val_loss: 29245.0039\n",
      "Epoch 31/50\n",
      "2/2 [==============================] - 0s 12ms/step - loss: 267360.8125 - val_loss: 10642.1934\n",
      "Epoch 32/50\n",
      "2/2 [==============================] - 0s 11ms/step - loss: 69048.1953 - val_loss: 16631.8730\n",
      "Epoch 33/50\n",
      "2/2 [==============================] - 0s 10ms/step - loss: 457505.7812 - val_loss: 25686.5605\n",
      "Epoch 34/50\n",
      "2/2 [==============================] - 0s 11ms/step - loss: 376177.6250 - val_loss: 13287.2412\n",
      "Epoch 35/50\n",
      "2/2 [==============================] - 0s 11ms/step - loss: 222702.5000 - val_loss: 27224.3633\n",
      "Epoch 36/50\n",
      "2/2 [==============================] - 0s 10ms/step - loss: 160290.4062 - val_loss: 42195.4297\n",
      "Epoch 37/50\n",
      "2/2 [==============================] - 0s 11ms/step - loss: 245822.5156 - val_loss: 9598.5596\n",
      "Epoch 38/50\n",
      "2/2 [==============================] - 0s 10ms/step - loss: 53066.1836 - val_loss: 8959.4014\n",
      "Epoch 39/50\n",
      "2/2 [==============================] - 0s 10ms/step - loss: 118693.6875 - val_loss: 16255.2588\n",
      "Epoch 40/50\n",
      "2/2 [==============================] - 0s 11ms/step - loss: 93113.7500 - val_loss: 36928.3633\n",
      "Epoch 41/50\n",
      "2/2 [==============================] - 0s 10ms/step - loss: 193182.2969 - val_loss: 18018.2793\n",
      "Epoch 42/50\n",
      "2/2 [==============================] - 0s 12ms/step - loss: 129379.1328 - val_loss: 9448.3516\n",
      "Epoch 43/50\n",
      "2/2 [==============================] - 0s 12ms/step - loss: 116341.4453 - val_loss: 24970.6660\n",
      "Epoch 44/50\n",
      "2/2 [==============================] - 0s 10ms/step - loss: 156638.0781 - val_loss: 44516.0234\n",
      "Epoch 45/50\n",
      "2/2 [==============================] - 0s 11ms/step - loss: 641097.5625 - val_loss: 19556.0977\n",
      "Epoch 46/50\n",
      "2/2 [==============================] - 0s 10ms/step - loss: 85350.5938 - val_loss: 16604.9863\n",
      "Epoch 47/50\n",
      "2/2 [==============================] - 0s 10ms/step - loss: 60227.1289 - val_loss: 8121.5063\n",
      "Epoch 48/50\n",
      "2/2 [==============================] - 0s 10ms/step - loss: 121470.9922 - val_loss: 8109.0483\n",
      "Epoch 49/50\n",
      "2/2 [==============================] - 0s 10ms/step - loss: 56371.3281 - val_loss: 11742.4189\n",
      "Epoch 50/50\n",
      "2/2 [==============================] - 0s 9ms/step - loss: 62691.6680 - val_loss: 17070.2129\n"
     ]
    },
    {
     "data": {
      "text/plain": [
       "<tensorflow.python.keras.callbacks.History at 0x295b4af96d0>"
      ]
     },
     "execution_count": 253,
     "metadata": {},
     "output_type": "execute_result"
    }
   ],
   "source": [
    "nn1 = Sequential()\n",
    "nn1.add(Dense(32,activation = 'relu', input_dim = x3.shape[1]))\n",
    "nn1.add(Dense(256,activation = 'relu'))\n",
    "nn1.add(Dropout(0.3))\n",
    "nn1.add(Dense(1))\n",
    "\n",
    "nn1.compile(loss = 'mean_squared_error')\n",
    "nn1.fit(x3, y3, validation_split=0.2, epochs=50)"
   ]
  },
  {
   "cell_type": "code",
   "execution_count": null,
   "id": "47d5177e",
   "metadata": {},
   "outputs": [],
   "source": []
  },
  {
   "cell_type": "code",
   "execution_count": 254,
   "id": "44e124cc",
   "metadata": {},
   "outputs": [],
   "source": [
    "# testing data"
   ]
  },
  {
   "cell_type": "code",
   "execution_count": 255,
   "id": "b5630e1e",
   "metadata": {},
   "outputs": [],
   "source": [
    "q = test[(test['Predicted_loan_status'] == 'N') & (test['Loan_Amount_Term'] <= 240)]"
   ]
  },
  {
   "cell_type": "code",
   "execution_count": 256,
   "id": "baad406b",
   "metadata": {},
   "outputs": [],
   "source": [
    "q1 = q.drop(labels=['Loan_Amount_Term'],axis=1)"
   ]
  },
  {
   "cell_type": "code",
   "execution_count": 257,
   "id": "06e14934",
   "metadata": {},
   "outputs": [
    {
     "data": {
      "text/html": [
       "<div>\n",
       "<style scoped>\n",
       "    .dataframe tbody tr th:only-of-type {\n",
       "        vertical-align: middle;\n",
       "    }\n",
       "\n",
       "    .dataframe tbody tr th {\n",
       "        vertical-align: top;\n",
       "    }\n",
       "\n",
       "    .dataframe thead th {\n",
       "        text-align: right;\n",
       "    }\n",
       "</style>\n",
       "<table border=\"1\" class=\"dataframe\">\n",
       "  <thead>\n",
       "    <tr style=\"text-align: right;\">\n",
       "      <th></th>\n",
       "      <th>Gender</th>\n",
       "      <th>Married</th>\n",
       "      <th>Dependents</th>\n",
       "      <th>Education</th>\n",
       "      <th>Self_Employed</th>\n",
       "      <th>ApplicantIncome</th>\n",
       "      <th>CoapplicantIncome</th>\n",
       "      <th>LoanAmount</th>\n",
       "      <th>Credit_History</th>\n",
       "      <th>Property_Area</th>\n",
       "      <th>Predicted_loan_status</th>\n",
       "    </tr>\n",
       "  </thead>\n",
       "  <tbody>\n",
       "    <tr>\n",
       "      <th>84</th>\n",
       "      <td>Male</td>\n",
       "      <td>Yes</td>\n",
       "      <td>0</td>\n",
       "      <td>Graduate</td>\n",
       "      <td>No</td>\n",
       "      <td>4456</td>\n",
       "      <td>0</td>\n",
       "      <td>131.0</td>\n",
       "      <td>0.000000</td>\n",
       "      <td>Semiurban</td>\n",
       "      <td>N</td>\n",
       "    </tr>\n",
       "    <tr>\n",
       "      <th>164</th>\n",
       "      <td>Male</td>\n",
       "      <td>No</td>\n",
       "      <td>1</td>\n",
       "      <td>Graduate</td>\n",
       "      <td>No</td>\n",
       "      <td>3180</td>\n",
       "      <td>2370</td>\n",
       "      <td>80.0</td>\n",
       "      <td>0.825444</td>\n",
       "      <td>Rural</td>\n",
       "      <td>N</td>\n",
       "    </tr>\n",
       "    <tr>\n",
       "      <th>173</th>\n",
       "      <td>Male</td>\n",
       "      <td>No</td>\n",
       "      <td>0</td>\n",
       "      <td>Graduate</td>\n",
       "      <td>No</td>\n",
       "      <td>3017</td>\n",
       "      <td>2845</td>\n",
       "      <td>159.0</td>\n",
       "      <td>0.000000</td>\n",
       "      <td>Urban</td>\n",
       "      <td>N</td>\n",
       "    </tr>\n",
       "    <tr>\n",
       "      <th>190</th>\n",
       "      <td>Female</td>\n",
       "      <td>Yes</td>\n",
       "      <td>1</td>\n",
       "      <td>Graduate</td>\n",
       "      <td>No</td>\n",
       "      <td>4333</td>\n",
       "      <td>0</td>\n",
       "      <td>132.0</td>\n",
       "      <td>1.000000</td>\n",
       "      <td>Rural</td>\n",
       "      <td>N</td>\n",
       "    </tr>\n",
       "    <tr>\n",
       "      <th>338</th>\n",
       "      <td>Male</td>\n",
       "      <td>Yes</td>\n",
       "      <td>1</td>\n",
       "      <td>Graduate</td>\n",
       "      <td>Yes</td>\n",
       "      <td>2360</td>\n",
       "      <td>3355</td>\n",
       "      <td>87.0</td>\n",
       "      <td>1.000000</td>\n",
       "      <td>Rural</td>\n",
       "      <td>N</td>\n",
       "    </tr>\n",
       "    <tr>\n",
       "      <th>342</th>\n",
       "      <td>Male</td>\n",
       "      <td>Yes</td>\n",
       "      <td>3+</td>\n",
       "      <td>Not Graduate</td>\n",
       "      <td>No</td>\n",
       "      <td>3522</td>\n",
       "      <td>0</td>\n",
       "      <td>81.0</td>\n",
       "      <td>1.000000</td>\n",
       "      <td>Rural</td>\n",
       "      <td>N</td>\n",
       "    </tr>\n",
       "    <tr>\n",
       "      <th>354</th>\n",
       "      <td>Male</td>\n",
       "      <td>Yes</td>\n",
       "      <td>3+</td>\n",
       "      <td>Not Graduate</td>\n",
       "      <td>No</td>\n",
       "      <td>5316</td>\n",
       "      <td>187</td>\n",
       "      <td>158.0</td>\n",
       "      <td>0.000000</td>\n",
       "      <td>Semiurban</td>\n",
       "      <td>N</td>\n",
       "    </tr>\n",
       "  </tbody>\n",
       "</table>\n",
       "</div>"
      ],
      "text/plain": [
       "     Gender Married Dependents     Education Self_Employed  ApplicantIncome  \\\n",
       "84     Male     Yes          0      Graduate            No             4456   \n",
       "164    Male      No          1      Graduate            No             3180   \n",
       "173    Male      No          0      Graduate            No             3017   \n",
       "190  Female     Yes          1      Graduate            No             4333   \n",
       "338    Male     Yes          1      Graduate           Yes             2360   \n",
       "342    Male     Yes         3+  Not Graduate            No             3522   \n",
       "354    Male     Yes         3+  Not Graduate            No             5316   \n",
       "\n",
       "     CoapplicantIncome  LoanAmount  Credit_History Property_Area  \\\n",
       "84                   0       131.0        0.000000     Semiurban   \n",
       "164               2370        80.0        0.825444         Rural   \n",
       "173               2845       159.0        0.000000         Urban   \n",
       "190                  0       132.0        1.000000         Rural   \n",
       "338               3355        87.0        1.000000         Rural   \n",
       "342                  0        81.0        1.000000         Rural   \n",
       "354                187       158.0        0.000000     Semiurban   \n",
       "\n",
       "    Predicted_loan_status  \n",
       "84                      N  \n",
       "164                     N  \n",
       "173                     N  \n",
       "190                     N  \n",
       "338                     N  \n",
       "342                     N  \n",
       "354                     N  "
      ]
     },
     "execution_count": 257,
     "metadata": {},
     "output_type": "execute_result"
    }
   ],
   "source": [
    "q1"
   ]
  },
  {
   "cell_type": "code",
   "execution_count": 258,
   "id": "9341dc73",
   "metadata": {},
   "outputs": [],
   "source": [
    "cat4, con4 = catconsep(q1)"
   ]
  },
  {
   "cell_type": "code",
   "execution_count": 259,
   "id": "ddf48d9e",
   "metadata": {},
   "outputs": [],
   "source": [
    "from sklearn.preprocessing import LabelEncoder\n",
    "le = LabelEncoder()\n",
    "\n",
    "for i in cat4:\n",
    "    q1[i] = le.fit_transform(q1[i])"
   ]
  },
  {
   "cell_type": "code",
   "execution_count": null,
   "id": "214fb413",
   "metadata": {},
   "outputs": [],
   "source": []
  },
  {
   "cell_type": "code",
   "execution_count": 260,
   "id": "cf49c4f0",
   "metadata": {},
   "outputs": [
    {
     "data": {
      "text/html": [
       "<div>\n",
       "<style scoped>\n",
       "    .dataframe tbody tr th:only-of-type {\n",
       "        vertical-align: middle;\n",
       "    }\n",
       "\n",
       "    .dataframe tbody tr th {\n",
       "        vertical-align: top;\n",
       "    }\n",
       "\n",
       "    .dataframe thead th {\n",
       "        text-align: right;\n",
       "    }\n",
       "</style>\n",
       "<table border=\"1\" class=\"dataframe\">\n",
       "  <thead>\n",
       "    <tr style=\"text-align: right;\">\n",
       "      <th></th>\n",
       "      <th>Gender</th>\n",
       "      <th>Married</th>\n",
       "      <th>Dependents</th>\n",
       "      <th>Education</th>\n",
       "      <th>Self_Employed</th>\n",
       "      <th>ApplicantIncome</th>\n",
       "      <th>CoapplicantIncome</th>\n",
       "      <th>LoanAmount</th>\n",
       "      <th>Credit_History</th>\n",
       "      <th>Property_Area</th>\n",
       "      <th>Predicted_loan_status</th>\n",
       "    </tr>\n",
       "  </thead>\n",
       "  <tbody>\n",
       "    <tr>\n",
       "      <th>84</th>\n",
       "      <td>1</td>\n",
       "      <td>1</td>\n",
       "      <td>0</td>\n",
       "      <td>0</td>\n",
       "      <td>0</td>\n",
       "      <td>4456</td>\n",
       "      <td>0</td>\n",
       "      <td>131.0</td>\n",
       "      <td>0.000000</td>\n",
       "      <td>1</td>\n",
       "      <td>0</td>\n",
       "    </tr>\n",
       "    <tr>\n",
       "      <th>164</th>\n",
       "      <td>1</td>\n",
       "      <td>0</td>\n",
       "      <td>1</td>\n",
       "      <td>0</td>\n",
       "      <td>0</td>\n",
       "      <td>3180</td>\n",
       "      <td>2370</td>\n",
       "      <td>80.0</td>\n",
       "      <td>0.825444</td>\n",
       "      <td>0</td>\n",
       "      <td>0</td>\n",
       "    </tr>\n",
       "    <tr>\n",
       "      <th>173</th>\n",
       "      <td>1</td>\n",
       "      <td>0</td>\n",
       "      <td>0</td>\n",
       "      <td>0</td>\n",
       "      <td>0</td>\n",
       "      <td>3017</td>\n",
       "      <td>2845</td>\n",
       "      <td>159.0</td>\n",
       "      <td>0.000000</td>\n",
       "      <td>2</td>\n",
       "      <td>0</td>\n",
       "    </tr>\n",
       "    <tr>\n",
       "      <th>190</th>\n",
       "      <td>0</td>\n",
       "      <td>1</td>\n",
       "      <td>1</td>\n",
       "      <td>0</td>\n",
       "      <td>0</td>\n",
       "      <td>4333</td>\n",
       "      <td>0</td>\n",
       "      <td>132.0</td>\n",
       "      <td>1.000000</td>\n",
       "      <td>0</td>\n",
       "      <td>0</td>\n",
       "    </tr>\n",
       "    <tr>\n",
       "      <th>338</th>\n",
       "      <td>1</td>\n",
       "      <td>1</td>\n",
       "      <td>1</td>\n",
       "      <td>0</td>\n",
       "      <td>1</td>\n",
       "      <td>2360</td>\n",
       "      <td>3355</td>\n",
       "      <td>87.0</td>\n",
       "      <td>1.000000</td>\n",
       "      <td>0</td>\n",
       "      <td>0</td>\n",
       "    </tr>\n",
       "    <tr>\n",
       "      <th>342</th>\n",
       "      <td>1</td>\n",
       "      <td>1</td>\n",
       "      <td>2</td>\n",
       "      <td>1</td>\n",
       "      <td>0</td>\n",
       "      <td>3522</td>\n",
       "      <td>0</td>\n",
       "      <td>81.0</td>\n",
       "      <td>1.000000</td>\n",
       "      <td>0</td>\n",
       "      <td>0</td>\n",
       "    </tr>\n",
       "    <tr>\n",
       "      <th>354</th>\n",
       "      <td>1</td>\n",
       "      <td>1</td>\n",
       "      <td>2</td>\n",
       "      <td>1</td>\n",
       "      <td>0</td>\n",
       "      <td>5316</td>\n",
       "      <td>187</td>\n",
       "      <td>158.0</td>\n",
       "      <td>0.000000</td>\n",
       "      <td>1</td>\n",
       "      <td>0</td>\n",
       "    </tr>\n",
       "  </tbody>\n",
       "</table>\n",
       "</div>"
      ],
      "text/plain": [
       "     Gender  Married  Dependents  Education  Self_Employed  ApplicantIncome  \\\n",
       "84        1        1           0          0              0             4456   \n",
       "164       1        0           1          0              0             3180   \n",
       "173       1        0           0          0              0             3017   \n",
       "190       0        1           1          0              0             4333   \n",
       "338       1        1           1          0              1             2360   \n",
       "342       1        1           2          1              0             3522   \n",
       "354       1        1           2          1              0             5316   \n",
       "\n",
       "     CoapplicantIncome  LoanAmount  Credit_History  Property_Area  \\\n",
       "84                   0       131.0        0.000000              1   \n",
       "164               2370        80.0        0.825444              0   \n",
       "173               2845       159.0        0.000000              2   \n",
       "190                  0       132.0        1.000000              0   \n",
       "338               3355        87.0        1.000000              0   \n",
       "342                  0        81.0        1.000000              0   \n",
       "354                187       158.0        0.000000              1   \n",
       "\n",
       "     Predicted_loan_status  \n",
       "84                       0  \n",
       "164                      0  \n",
       "173                      0  \n",
       "190                      0  \n",
       "338                      0  \n",
       "342                      0  \n",
       "354                      0  "
      ]
     },
     "execution_count": 260,
     "metadata": {},
     "output_type": "execute_result"
    }
   ],
   "source": [
    "q1"
   ]
  },
  {
   "cell_type": "code",
   "execution_count": 261,
   "id": "9a6c393c",
   "metadata": {},
   "outputs": [
    {
     "data": {
      "text/plain": [
       "(7, 11)"
      ]
     },
     "execution_count": 261,
     "metadata": {},
     "output_type": "execute_result"
    }
   ],
   "source": [
    "q1.shape"
   ]
  },
  {
   "cell_type": "code",
   "execution_count": 262,
   "id": "54f2d8dd",
   "metadata": {},
   "outputs": [],
   "source": [
    "replacer(q1)"
   ]
  },
  {
   "cell_type": "markdown",
   "id": "5bdc908f",
   "metadata": {},
   "source": [
    "# Predictions"
   ]
  },
  {
   "cell_type": "code",
   "execution_count": 263,
   "id": "5b062b57",
   "metadata": {},
   "outputs": [],
   "source": [
    "pred = nn1.predict(q1)"
   ]
  },
  {
   "cell_type": "code",
   "execution_count": 264,
   "id": "d2771bce",
   "metadata": {},
   "outputs": [
    {
     "data": {
      "text/plain": [
       "array([[149.28183],\n",
       "       [205.0286 ],\n",
       "       [212.25166],\n",
       "       [145.0659 ],\n",
       "       [167.32556],\n",
       "       [118.03263],\n",
       "       [178.58362]], dtype=float32)"
      ]
     },
     "execution_count": 264,
     "metadata": {},
     "output_type": "execute_result"
    }
   ],
   "source": [
    "pred"
   ]
  },
  {
   "cell_type": "code",
   "execution_count": null,
   "id": "859cdb85",
   "metadata": {},
   "outputs": [],
   "source": []
  },
  {
   "cell_type": "code",
   "execution_count": null,
   "id": "61970f70",
   "metadata": {},
   "outputs": [],
   "source": []
  },
  {
   "cell_type": "code",
   "execution_count": null,
   "id": "54400f85",
   "metadata": {},
   "outputs": [],
   "source": []
  },
  {
   "cell_type": "code",
   "execution_count": null,
   "id": "5093d5ab",
   "metadata": {},
   "outputs": [],
   "source": []
  },
  {
   "cell_type": "code",
   "execution_count": null,
   "id": "d28ed584",
   "metadata": {},
   "outputs": [],
   "source": []
  },
  {
   "cell_type": "code",
   "execution_count": null,
   "id": "81fc72fa",
   "metadata": {},
   "outputs": [],
   "source": []
  },
  {
   "cell_type": "code",
   "execution_count": null,
   "id": "43b24458",
   "metadata": {},
   "outputs": [],
   "source": []
  },
  {
   "cell_type": "code",
   "execution_count": null,
   "id": "205d59c1",
   "metadata": {},
   "outputs": [],
   "source": []
  },
  {
   "cell_type": "code",
   "execution_count": null,
   "id": "84e8fa1a",
   "metadata": {},
   "outputs": [],
   "source": []
  },
  {
   "cell_type": "code",
   "execution_count": null,
   "id": "ffb7350a",
   "metadata": {},
   "outputs": [],
   "source": []
  },
  {
   "cell_type": "code",
   "execution_count": null,
   "id": "0effaff7",
   "metadata": {},
   "outputs": [],
   "source": []
  },
  {
   "cell_type": "code",
   "execution_count": null,
   "id": "a2e60ab3",
   "metadata": {},
   "outputs": [],
   "source": []
  },
  {
   "cell_type": "code",
   "execution_count": null,
   "id": "5a69d4db",
   "metadata": {},
   "outputs": [],
   "source": []
  },
  {
   "cell_type": "code",
   "execution_count": null,
   "id": "dfea0aa3",
   "metadata": {},
   "outputs": [],
   "source": []
  },
  {
   "cell_type": "code",
   "execution_count": null,
   "id": "c2c8f6a8",
   "metadata": {},
   "outputs": [],
   "source": []
  },
  {
   "cell_type": "code",
   "execution_count": null,
   "id": "7fda9e54",
   "metadata": {},
   "outputs": [],
   "source": []
  },
  {
   "cell_type": "code",
   "execution_count": null,
   "id": "4ece9976",
   "metadata": {},
   "outputs": [],
   "source": []
  },
  {
   "cell_type": "code",
   "execution_count": null,
   "id": "147b50e9",
   "metadata": {},
   "outputs": [],
   "source": []
  },
  {
   "cell_type": "code",
   "execution_count": null,
   "id": "ba3825d0",
   "metadata": {},
   "outputs": [],
   "source": []
  },
  {
   "cell_type": "code",
   "execution_count": null,
   "id": "a7d6a184",
   "metadata": {},
   "outputs": [],
   "source": []
  }
 ],
 "metadata": {
  "kernelspec": {
   "display_name": "Python 3",
   "language": "python",
   "name": "python3"
  },
  "language_info": {
   "codemirror_mode": {
    "name": "ipython",
    "version": 3
   },
   "file_extension": ".py",
   "mimetype": "text/x-python",
   "name": "python",
   "nbconvert_exporter": "python",
   "pygments_lexer": "ipython3",
   "version": "3.8.8"
  }
 },
 "nbformat": 4,
 "nbformat_minor": 5
}
